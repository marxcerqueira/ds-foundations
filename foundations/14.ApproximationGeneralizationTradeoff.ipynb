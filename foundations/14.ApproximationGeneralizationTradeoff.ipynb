{
 "cells": [
  {
   "cell_type": "markdown",
   "metadata": {
    "collapsed": true,
    "slideshow": {
     "slide_type": "subslide"
    }
   },
   "source": [
    "## Learning Objectives\n",
    "\n",
    "Today we explore the most important tradeoff in ML: the approximation generalization tradeoff. And we learn how this tradeoff effects almost every ML decision on the books."
   ]
  },
  {
   "cell_type": "markdown",
   "metadata": {
    "slideshow": {
     "slide_type": "slide"
    }
   },
   "source": [
    "## The most important graphs\n",
    "\n",
    "Today we are going to be exploring the most important tradeoff in machine learning: the approximation generalization tradeoff. And we are going to explore this tradeoff by means of some very important graphs, so let's get started.\n",
    "\n",
    "First off I am going to create some very unoriginal data: a sine wave. Let me show you what a couple hundred draws from this distribution looks like:"
   ]
  },
  {
   "cell_type": "code",
   "execution_count": 9,
   "metadata": {
    "slideshow": {
     "slide_type": "subslide"
    }
   },
   "outputs": [
    {
     "data": {
      "text/plain": [
       "<matplotlib.axes._subplots.AxesSubplot at 0x110ecd5d0>"
      ]
     },
     "execution_count": 9,
     "metadata": {},
     "output_type": "execute_result"
    },
    {
     "data": {
      "image/png": "[encoded data removed]",
      "text/plain": [
       "<matplotlib.figure.Figure at 0x1114b2d50>"
      ]
     },
     "metadata": {},
     "output_type": "display_data"
    }
   ],
   "source": [
    "%matplotlib inline\n",
    "import numpy as np\n",
    "import seaborn as sns\n",
    "\n",
    "X = np.random.uniform(-1, 1, size=1000)\n",
    "y = np.sin(np.pi * X)\n",
    "\n",
    "sns.tsplot(y, X)"
   ]
  },
  {
   "cell_type": "markdown",
   "metadata": {
    "slideshow": {
     "slide_type": "subslide"
    }
   },
   "source": [
    "Now you know the drill. We would put some points in test and others in train and blah blah blah. Well you are absolutely correct, but today we are doing this exercise to show off an important point. So we are skipping the normal process. \n",
    "\n",
    "Instead we are exploring what happens as we vary two important quantities: the number of data points and the size of the hypothesis set. "
   ]
  },
  {
   "cell_type": "markdown",
   "metadata": {
    "slideshow": {
     "slide_type": "subslide"
    }
   },
   "source": [
    "Let's start off with a simple example. Let's explore two sets of hypothesis functions:\n",
    "\n",
    "1. f(X) = w_0 = y\n",
    "2. f(X) = w_0 + w_1 * x_1 = y\n",
    "\n",
    "Notice the first hypothesis is a constant function. That is right we will simply ignore the input and always guess the same thing. The second hypothesis set is much bigger. It has 2 infinite parameters instead of 1. the second hypothesis is linear regression with an intercept. \n",
    "\n",
    "Now you know that for the first hypothesis we should ideally have 10 data points, and for the second we should have at least 20, but let's explore what happens if we just have 2. Yes that's right, 2.\n",
    "\n",
    "First let's estimate the in sample/training error by running our regressions 1000 times on the dataset:"
   ]
  },
  {
   "cell_type": "code",
   "execution_count": null,
   "metadata": {
    "slideshow": {
     "slide_type": "skip"
    }
   },
   "outputs": [],
   "source": [
    "from sklearn.linear_model import LinearRegression\n",
    "from sklearn.preprocessing import add_dummy_feature\n",
    "from sklearn.metrics import mean_squared_error"
   ]
  },
  {
   "cell_type": "code",
   "execution_count": 54,
   "metadata": {
    "collapsed": true,
    "slideshow": {
     "slide_type": "subslide"
    }
   },
   "outputs": [],
   "source": [
    "h0_scores = []\n",
    "h1_scores = []\n",
    "h0_models = []\n",
    "h1_models = []\n",
    "\n",
    "for _ in range(1000):\n",
    "    X = np.random.uniform(-1, 1, size=2)\n",
    "    y = np.sin(np.pi * X)\n",
    "    \n",
    "    reg0 = LinearRegression(fit_intercept=False)\n",
    "    reg1 = LinearRegression(fit_intercept=False)\n",
    "    \n",
    "    # this hypothesis ignores the X variable\n",
    "    reg0.fit(np.ones((2, 1)), y)\n",
    "    # this hypothesis can use the X variable as well as an intercept\n",
    "    reg1.fit(add_dummy_feature(X[:, None]), y)\n",
    "    \n",
    "    # now we score both hypotheses on the traning data\n",
    "    preds = reg0.predict(np.ones((2, 1)))\n",
    "    h0_scores.append(mean_squared_error(preds, y))\n",
    "    preds = reg1.predict(add_dummy_feature(X[:, None]))\n",
    "    h1_scores.append(mean_squared_error(preds, y))\n",
    "    \n",
    "    # finally we store the models\n",
    "    h0_models.append(reg0)\n",
    "    h1_models.append(reg1)"
   ]
  },
  {
   "cell_type": "code",
   "execution_count": 55,
   "metadata": {
    "slideshow": {
     "slide_type": "subslide"
    }
   },
   "outputs": [
    {
     "data": {
      "text/plain": [
       "<matplotlib.axes._subplots.AxesSubplot at 0x113b11e10>"
      ]
     },
     "execution_count": 55,
     "metadata": {},
     "output_type": "execute_result"
    },
    {
     "data": {
      "image/png": "[encoded data removed]",
      "text/plain": [
       "<matplotlib.figure.Figure at 0x11398afd0>"
      ]
     },
     "metadata": {},
     "output_type": "display_data"
    }
   ],
   "source": [
    "%matplotlib inline\n",
    "import seaborn as sns\n",
    "\n",
    "sns.pointplot(data=[h0_scores, h1_scores], join=False)"
   ]
  },
  {
   "cell_type": "markdown",
   "metadata": {
    "slideshow": {
     "slide_type": "subslide"
    }
   },
   "source": [
    "Okay well looks like the simpler hypothesis set did poorly. Whereas the more complicated one did really really well! It actually had 0 error (this is because two points make a line so there is a way to get zero error for the above example). \n",
    "\n",
    "But you probably see where we are going right?\n",
    "\n",
    "Now let's look to see how these estimators do on data that they weren't trained on:"
   ]
  },
  {
   "cell_type": "code",
   "execution_count": 64,
   "metadata": {
    "collapsed": true,
    "slideshow": {
     "slide_type": "subslide"
    }
   },
   "outputs": [],
   "source": [
    "h0_test_scores = []\n",
    "h1_test_scores = []\n",
    "\n",
    "for i in range(1000):\n",
    "    X = np.random.uniform(-1, 1, size=50)\n",
    "    y = np.sin(np.pi * X)\n",
    "    \n",
    "    reg0 = h0_models[i]\n",
    "    reg1 = h1_models[i]\n",
    "    \n",
    "    # we score both hypotheses on the 'test' data\n",
    "    preds = reg0.predict(np.ones((50, 1)))\n",
    "    h0_test_scores.append(mean_squared_error(preds, y))\n",
    "    preds = reg1.predict(add_dummy_feature(X[:, None]))\n",
    "    h1_test_scores.append(mean_squared_error(preds, y))"
   ]
  },
  {
   "cell_type": "code",
   "execution_count": 65,
   "metadata": {
    "slideshow": {
     "slide_type": "subslide"
    }
   },
   "outputs": [
    {
     "data": {
      "text/plain": [
       "<matplotlib.axes._subplots.AxesSubplot at 0x1130be710>"
      ]
     },
     "execution_count": 65,
     "metadata": {},
     "output_type": "execute_result"
    },
    {
     "data": {
      "image/png": "[encoded data removed]",
      "text/plain": [
       "<matplotlib.figure.Figure at 0x1138e9c10>"
      ]
     },
     "metadata": {},
     "output_type": "display_data"
    }
   ],
   "source": [
    "sns.pointplot(data=[h0_test_scores, h1_test_scores], join=False)"
   ]
  },
  {
   "cell_type": "markdown",
   "metadata": {
    "slideshow": {
     "slide_type": "subslide"
    }
   },
   "source": [
    "Wow, what a difference! Hypothesis 0 did much worse than it originally predicted it would do, but hypothesis 1 did much much worse than it was looking previously. What happened? \n",
    "\n",
    "Well this effect is called the generallization approximation tradeoff. What does that mean?\n",
    "\n",
    "Well with large hypothesis sets we can approximate functions very well. This means that we can fit the training data very well and the error we will get on the training data will be very small.\n",
    "\n",
    "Generalization happens when a model is able to do just as well on the test data as it does on the training data. Simple hypothesis sets tend to generalize better than more complex ones.\n",
    "\n",
    "We can approximate functions better by choosing larger hypothesis sets and we can generalize better by getting more data and keeping the hypothesis set low. Because there is this tradeoff, often people will choose the complexity of their model based on the data they have. \n",
    "\n",
    "So I know that I have repeated this one concept a ton of times, but it is very important. So let's show this in action. I am going to show off this idea for the two functions that I am using above:"
   ]
  },
  {
   "cell_type": "code",
   "execution_count": 69,
   "metadata": {
    "collapsed": true,
    "slideshow": {
     "slide_type": "subslide"
    }
   },
   "outputs": [],
   "source": [
    "train_errors = []\n",
    "test_errors = []\n",
    "for num_points in range(2, 40):\n",
    "    train_error = []\n",
    "    test_error = []\n",
    "    for trail in range(100):\n",
    "        X_train = np.random.uniform(-1, 1, size=num_points)\n",
    "        y_train = np.sin(np.pi * X_train)\n",
    "\n",
    "        reg = LinearRegression(fit_intercept=False)\n",
    "\n",
    "        # this hypothesis ignores the X variable\n",
    "        reg.fit(np.ones((num_points, 1)), y_train)\n",
    "\n",
    "        # now we score both hypotheses on the traning data\n",
    "        preds = reg.predict(np.ones((num_points, 1)))\n",
    "        train_error.append(mean_squared_error(preds, y_train))\n",
    "        \n",
    "        X_test = np.random.uniform(-1, 1, size=50)\n",
    "        y_test = np.sin(np.pi * X_test)\n",
    "        \n",
    "        preds = reg.predict(np.ones((50, 1)))\n",
    "        test_error.append(mean_squared_error(preds, y_test))\n",
    "\n",
    "    train_errors.append(train_error)\n",
    "    test_errors.append(test_error)"
   ]
  },
  {
   "cell_type": "code",
   "execution_count": 80,
   "metadata": {
    "slideshow": {
     "slide_type": "subslide"
    }
   },
   "outputs": [
    {
     "data": {
      "text/plain": [
       "<matplotlib.axes._subplots.AxesSubplot at 0x11517fc50>"
      ]
     },
     "execution_count": 80,
     "metadata": {},
     "output_type": "execute_result"
    },
    {
     "data": {
      "image/png": "[encoded data removed]",
      "text/plain": [
       "<matplotlib.figure.Figure at 0x114f414d0>"
      ]
     },
     "metadata": {},
     "output_type": "display_data"
    }
   ],
   "source": [
    "# now we plot them :)\n",
    "sns.tsplot(np.array([train_errors, test_errors]).T, range(2, 40))"
   ]
  },
  {
   "cell_type": "markdown",
   "metadata": {
    "slideshow": {
     "slide_type": "subslide"
    }
   },
   "source": [
    "Is this what you expected?\n",
    "\n",
    "We see two things happening here. \n",
    "\n",
    "1. The train error is slowly increasing. This is because as the number of training points increases the harder it is for a single function to approximate. However it levels off eventually to what would be the best solution if you actually had all the data in the world (in our case always predicting 0)\n",
    "2. The test error goes down/closer to the train error. Why is this? Well there are a lot of reasons. As we increase in the number of data points the bounds we get from training become tighter, so it is more likely that the test error will be closer to the train error. But to view it in another light, as the amount of training data increases, the more the training situation looks like the testing one.\n",
    "\n",
    "You will see this every time. \n",
    "\n",
    "Now let's check out what our second hypothesis set looks like:"
   ]
  },
  {
   "cell_type": "code",
   "execution_count": 81,
   "metadata": {
    "collapsed": true,
    "slideshow": {
     "slide_type": "skip"
    }
   },
   "outputs": [],
   "source": [
    "train_errors = []\n",
    "test_errors = []\n",
    "for num_points in range(2, 40):\n",
    "    train_error = []\n",
    "    test_error = []\n",
    "    for trail in range(100):\n",
    "        X_train = np.random.uniform(-1, 1, size=num_points)\n",
    "        y_train = np.sin(np.pi * X_train)\n",
    "\n",
    "        reg = LinearRegression(fit_intercept=False)\n",
    "\n",
    "        # this hypothesis ignores the X variable\n",
    "        reg.fit(add_dummy_feature(X_train[:, None]), y_train)\n",
    "\n",
    "        # now we score both hypotheses on the traning data\n",
    "        preds = reg.predict(add_dummy_feature(X_train[:, None]))\n",
    "        train_error.append(mean_squared_error(preds, y_train))\n",
    "        \n",
    "        X_test = np.random.uniform(-1, 1, size=50)\n",
    "        y_test = np.sin(np.pi * X_test)\n",
    "        \n",
    "        preds = reg.predict(add_dummy_feature(X_test[:, None]))\n",
    "        test_error.append(mean_squared_error(preds, y_test))\n",
    "\n",
    "    train_errors.append(train_error)\n",
    "    test_errors.append(test_error)"
   ]
  },
  {
   "cell_type": "code",
   "execution_count": 83,
   "metadata": {
    "slideshow": {
     "slide_type": "subslide"
    }
   },
   "outputs": [
    {
     "data": {
      "text/plain": [
       "<matplotlib.axes._subplots.AxesSubplot at 0x115b2ea90>"
      ]
     },
     "execution_count": 83,
     "metadata": {},
     "output_type": "execute_result"
    },
    {
     "data": {
      "image/png": "[encoded data removed]",
      "text/plain": [
       "<matplotlib.figure.Figure at 0x115bbea50>"
      ]
     },
     "metadata": {},
     "output_type": "display_data"
    }
   ],
   "source": [
    "# now we plot them :)\n",
    "sns.tsplot(np.array([train_errors, test_errors]).T, range(2, 40))"
   ]
  },
  {
   "cell_type": "markdown",
   "metadata": {
    "slideshow": {
     "slide_type": "subslide"
    }
   },
   "source": [
    "Notice two things:\n",
    "\n",
    "1. The error on a small number number of data points is much bigger than the error above. The hypothesis was too complex for the number of data points\n",
    "2. The quality of the hypothesis at 20 data points is much better than the quality of the previous hypothesis set\n",
    "\n",
    "There are two quantities that we like to measure on these types of graphs. The first is the distance from 0 to the training error. We call this the approximation error. The second is the distance from the training error to the test error. We call this the generalization error. \n",
    "\n",
    "Notice that as we increase the number of data points the approximation error increases. But the generalization error decreases. This is the tradeoff. \n",
    "\n",
    "Now as a final treat, let's explore a graphic that will show us what happens as we increase the complexity of the hypothesis set and the number of data points:"
   ]
  },
  {
   "cell_type": "code",
   "execution_count": 95,
   "metadata": {
    "collapsed": true,
    "slideshow": {
     "slide_type": "skip"
    }
   },
   "outputs": [],
   "source": [
    "from sklearn.preprocessing import PolynomialFeatures\n",
    "\n",
    "model_train_errors = []\n",
    "model_test_errors = []\n",
    "model_generalization_error = []\n",
    "for model_complexity in range(3):\n",
    "    train_errors = []\n",
    "    test_errors = []\n",
    "    generalization_error = []\n",
    "    for num_points in range(2, 20):\n",
    "        train_error = 0\n",
    "        test_error = 0\n",
    "        for trail in range(100):\n",
    "            X_train = np.random.uniform(-1, 1, size=num_points)\n",
    "            y_train = np.sin(np.pi * X_train)\n",
    "            \n",
    "            poly = PolynomialFeatures(model_complexity)\n",
    "            X_train = poly.fit_transform(X_train[:, None])\n",
    "\n",
    "            reg = LinearRegression(fit_intercept=False)\n",
    "\n",
    "            reg.fit(X_train, y_train)\n",
    "\n",
    "            # now we score both hypotheses on the traning data\n",
    "            preds = reg.predict(X_train)\n",
    "            train_error += mean_squared_error(preds, y_train)\n",
    "\n",
    "            X_test = np.random.uniform(-1, 1, size=50)\n",
    "            y_test = np.sin(np.pi * X_test)\n",
    "\n",
    "            X_test = poly.fit_transform(X_test[:, None])\n",
    "            preds = reg.predict(X_test)\n",
    "            test_error += mean_squared_error(preds, y_test)\n",
    "            \n",
    "        train_error /= 100\n",
    "        test_error /= 100\n",
    "\n",
    "        train_errors.append(train_error)\n",
    "        test_errors.append(test_error)\n",
    "        generalization_error.append(test_error - train_error)\n",
    "        \n",
    "    model_train_errors.append(train_errors)\n",
    "    model_test_errors.append(test_errors)\n",
    "    model_generalization_error.append(generalization_error)"
   ]
  },
  {
   "cell_type": "markdown",
   "metadata": {
    "slideshow": {
     "slide_type": "subslide"
    }
   },
   "source": [
    "First the train error. Notice that as the number of data points increases the train error increases. Notice also that as the model complexity increases the train error decreases:"
   ]
  },
  {
   "cell_type": "code",
   "execution_count": 96,
   "metadata": {
    "slideshow": {
     "slide_type": "fragment"
    }
   },
   "outputs": [
    {
     "data": {
      "text/plain": [
       "<matplotlib.axes._subplots.AxesSubplot at 0x116750050>"
      ]
     },
     "execution_count": 96,
     "metadata": {},
     "output_type": "execute_result"
    },
    {
     "data": {
      "image/png": "[encoded data removed]",
      "text/plain": [
       "<matplotlib.figure.Figure at 0x116766390>"
      ]
     },
     "metadata": {},
     "output_type": "display_data"
    }
   ],
   "source": [
    "sns.heatmap(model_train_errors)"
   ]
  },
  {
   "cell_type": "markdown",
   "metadata": {
    "slideshow": {
     "slide_type": "subslide"
    }
   },
   "source": [
    "Next generalization error. Can you see the tradeoff? Notice that as the number of data points increases the generalization error decreases. Notice as the complexity of the model increases the generalization error increases."
   ]
  },
  {
   "cell_type": "code",
   "execution_count": 99,
   "metadata": {
    "slideshow": {
     "slide_type": "fragment"
    }
   },
   "outputs": [
    {
     "data": {
      "text/plain": [
       "<matplotlib.axes._subplots.AxesSubplot at 0x1159e2a50>"
      ]
     },
     "execution_count": 99,
     "metadata": {},
     "output_type": "execute_result"
    },
    {
     "data": {
      "image/png": "[encoded data removed]",
      "text/plain": [
       "<matplotlib.figure.Figure at 0x116b2fd90>"
      ]
     },
     "metadata": {},
     "output_type": "display_data"
    }
   ],
   "source": [
    "sns.heatmap(model_generalization_error)"
   ]
  },
  {
   "cell_type": "markdown",
   "metadata": {
    "slideshow": {
     "slide_type": "subslide"
    }
   },
   "source": [
    "And finally what we ultimately care about, the test error. Now you notice that there is a sweet spot (at least in the hypotheses that I have printed here. Hypothesis 0 may be better than h1 (linear regression) for very low data point regimes, but h1 becomes better after we get enough data points. h2 (w_0 + w_1 * x_1 + w_2 * x_1^2) is even more complex and the generalization error is very big even though the train error is very small. Thus we would need even more data points for it to be able to compete with the other hypotheses (around 30 would be good)."
   ]
  },
  {
   "cell_type": "code",
   "execution_count": 100,
   "metadata": {
    "slideshow": {
     "slide_type": "subslide"
    }
   },
   "outputs": [
    {
     "data": {
      "text/plain": [
       "<matplotlib.axes._subplots.AxesSubplot at 0x116dc2b90>"
      ]
     },
     "execution_count": 100,
     "metadata": {},
     "output_type": "execute_result"
    },
    {
     "data": {
      "image/png": "[encoded data removed]",
      "text/plain": [
       "<matplotlib.figure.Figure at 0x116b2fbd0>"
      ]
     },
     "metadata": {},
     "output_type": "display_data"
    }
   ],
   "source": [
    "sns.heatmap(model_test_errors)"
   ]
  },
  {
   "cell_type": "markdown",
   "metadata": {
    "slideshow": {
     "slide_type": "slide"
    }
   },
   "source": [
    "## What's next\n",
    "\n",
    "Above I showed you the three important phenomena surrounding model complexity + data points and train, test and generalization error. These are very important to understand intuitively, theoretically and practically because this is the crux of machine learning. \n",
    "\n",
    "Next time we are going to be going over the same thing from another perspective and talking about the bias variance tradeoff."
   ]
  },
  {
   "cell_type": "markdown",
   "metadata": {
    "collapsed": true,
    "slideshow": {
     "slide_type": "slide"
    }
   },
   "source": [
    "## Learning Objectives\n",
    "\n",
    "Today we explore the most important tradeoff in ML: the approximation generalization tradeoff. And we learn how this tradeoff effects almost every ML decision on the books."
   ]
  },
  {
   "cell_type": "markdown",
   "metadata": {
    "slideshow": {
     "slide_type": "slide"
    }
   },
   "source": [
    "## Comprehension Questions\n",
    "\n",
    "1.\tWhy are we exploring the number of data points and the size of the hypothesis set? Is there anything more important?\n",
    "2.\tDo you think more complex hypothesis sets have higher or lower variance on the train error?\n",
    "3.\tAs you increase the number of datapoints does the training error increase or decrease? \n",
    "4.\tAs you increase the number of test points what happens to the test error?\n",
    "5.\tAs you increase the fraction of your points used in the test set what happens to the test error?\n",
    "6.\tDo we care more about approximation error or generalization error?\n"
   ]
  }
 ],
 "metadata": {
  "celltoolbar": "Slideshow",
  "kernelspec": {
   "display_name": "Python 2",
   "language": "python",
   "name": "python2"
  },
  "language_info": {
   "codemirror_mode": {
    "name": "ipython",
    "version": 2
   },
   "file_extension": ".py",
   "mimetype": "text/x-python",
   "name": "python",
   "nbconvert_exporter": "python",
   "pygments_lexer": "ipython2",
   "version": "2.7.10"
  }
 },
 "nbformat": 4,
 "nbformat_minor": 2
}
