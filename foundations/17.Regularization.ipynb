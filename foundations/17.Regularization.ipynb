{
 "cells": [
  {
   "cell_type": "markdown",
   "metadata": {
    "collapsed": true,
    "slideshow": {
     "slide_type": "slide"
    }
   },
   "source": [
    "## Learning Objectives\n",
    "\n",
    "Today we learn about regularization: an automatic way to adjust the size of the hypothesis set."
   ]
  },
  {
   "cell_type": "markdown",
   "metadata": {
    "collapsed": true,
    "slideshow": {
     "slide_type": "slide"
    }
   },
   "source": [
    "## A cure?\n",
    "\n",
    "By now you should be well versed in both the approximation-generalization trade off and the bias-variance trade off. You should know that as your model becomes more complex it requires more data. That being said if you already have a lot of data, then you can use a more expressive/complex model to get better performance. \n",
    "\n",
    "Now the question that you might be wanting to ask me is: well how do I know what is the right sized model?\n",
    "\n",
    "You can use the rule of thumb, but as I said, it is just a rule of thumb. There will be exceptions. And what about if you have 25 data points. Do you use a model with 2.5 free parameters??\n",
    "\n",
    "The answer to this is you use regularization."
   ]
  },
  {
   "cell_type": "markdown",
   "metadata": {
    "slideshow": {
     "slide_type": "slide"
    }
   },
   "source": [
    "## Regularization\n",
    "\n",
    "Regularization is an easy way to control the size of your hypothesis. Let's say you have a data set that has 10 columns and 25 rows. This means a linear fit will look like:\n",
    "\n",
    "$$y = w_0 + w_1 * x_1 + ... + w_{10} * x_{10}$$\n",
    "\n",
    "We will have 11 free parameters for 25 data points. How do we reduce the number of parameters to meet the data? Do we just randomly drop 8 or 9 of the columns? That doesn't seem right...\n",
    "\n"
   ]
  },
  {
   "cell_type": "markdown",
   "metadata": {
    "slideshow": {
     "slide_type": "subslide"
    }
   },
   "source": [
    "Regularization will constrain the hypothesis space and let the model decide which parameters are important. In this class we will talk about one type of regularization, the most popular, and it will serve as a great example for learning more outside of the classroom. The type of regularization we will talk about is L2 regularization. This means that we will constrain the size of the squares of the weights to be less than a particular bound. For example:\n",
    "\n",
    "$$w_0^2 + w_1^2 + w_3^2 < 10$$\n",
    "\n",
    "Notice that in a way we have no free parameters, but in another way we have three. The model will then get to choose where it spends its 'weight points'. In such a way we have constrained the model size and complexity.\n",
    "\n",
    "When you are actually doing machine learning in the real world you will need to try lots of different L2 parameters (above we used 10) and pick the best one. As a note, often  people will choose to phrase regularization as penalizing large weights, but theoretically that is the same as the phrasing above, just easier to work with."
   ]
  },
  {
   "cell_type": "markdown",
   "metadata": {
    "slideshow": {
     "slide_type": "slide"
    }
   },
   "source": [
    "## Proof\n",
    "\n",
    "Okay, enough talk, let's return back to the good stuff and show you that this works. Again let's use a sine curve:"
   ]
  },
  {
   "cell_type": "code",
   "execution_count": 1,
   "metadata": {
    "slideshow": {
     "slide_type": "subslide"
    }
   },
   "outputs": [
    {
     "data": {
      "text/plain": [
       "<matplotlib.axes._subplots.AxesSubplot at 0x10b7c4590>"
      ]
     },
     "execution_count": 1,
     "metadata": {},
     "output_type": "execute_result"
    },
    {
     "data": {
      "image/png": "[encoded data removed]",
      "text/plain": [
       "<matplotlib.figure.Figure at 0x10602ac50>"
      ]
     },
     "metadata": {},
     "output_type": "display_data"
    }
   ],
   "source": [
    "%matplotlib inline\n",
    "import numpy as np\n",
    "import seaborn as sns\n",
    "\n",
    "X = np.random.uniform(-1, 1, size=1000)\n",
    "y = np.sin(np.pi * X)\n",
    "\n",
    "sns.tsplot(y, X)"
   ]
  },
  {
   "cell_type": "markdown",
   "metadata": {
    "slideshow": {
     "slide_type": "subslide"
    }
   },
   "source": [
    "But this time we will be using one curve to fit the distribution, a second order one. But we will be varying the amount of regularization we will be using and we will then check out the approximation generalization trade off again:"
   ]
  },
  {
   "cell_type": "code",
   "execution_count": 2,
   "metadata": {
    "slideshow": {
     "slide_type": "subslide"
    }
   },
   "outputs": [],
   "source": [
    "from sklearn.preprocessing import PolynomialFeatures\n",
    "from sklearn.linear_model import Ridge\n",
    "from sklearn.metrics import mean_squared_error\n",
    "\n",
    "model_train_errors = []\n",
    "model_test_errors = []\n",
    "model_generalization_error = []\n",
    "for model_complexity in range(1, 10):\n",
    "    train_errors = []\n",
    "    test_errors = []\n",
    "    generalization_error = []\n",
    "    for num_points in range(4, 40, 2):\n",
    "        train_error = 0\n",
    "        test_error = 0\n",
    "        for trail in range(100):\n",
    "            X_train = np.random.uniform(-1, 1, size=num_points)\n",
    "            y_train = np.sin(np.pi * X_train)\n",
    "            \n",
    "            poly = PolynomialFeatures(2)\n",
    "            X_train = poly.fit_transform(X_train[:, None])\n",
    "\n",
    "            # this is where the regularization is taking place!\n",
    "            reg = Ridge(alpha=1./model_complexity, fit_intercept=False)\n",
    "\n",
    "            reg.fit(X_train, y_train)\n",
    "\n",
    "            # now we score both hypotheses on the traning data\n",
    "            preds = reg.predict(X_train)\n",
    "            train_error += mean_squared_error(preds, y_train)\n",
    "\n",
    "            X_test = np.random.uniform(-1, 1, size=50)\n",
    "            y_test = np.sin(np.pi * X_test)\n",
    "\n",
    "            X_test = poly.fit_transform(X_test[:, None])\n",
    "            preds = reg.predict(X_test)\n",
    "            test_error += mean_squared_error(preds, y_test)\n",
    "            \n",
    "        train_error /= 100\n",
    "        test_error /= 100\n",
    "\n",
    "        train_errors.append(train_error)\n",
    "        test_errors.append(test_error)\n",
    "        generalization_error.append(test_error - train_error)\n",
    "        \n",
    "    model_train_errors.append(train_errors)\n",
    "    model_test_errors.append(test_errors)\n",
    "    model_generalization_error.append(generalization_error)"
   ]
  },
  {
   "cell_type": "markdown",
   "metadata": {
    "slideshow": {
     "slide_type": "subslide"
    }
   },
   "source": [
    "Now before you look below, what should you expect? We are going to be looking at three quantities: train error, test error, and generalization error. Remember while train error and generalization error are interesting, test error is really what we are looking for. Okay, let's look at the results."
   ]
  },
  {
   "cell_type": "code",
   "execution_count": 15,
   "metadata": {
    "slideshow": {
     "slide_type": "subslide"
    }
   },
   "outputs": [
    {
     "data": {
      "text/plain": [
       "<matplotlib.axes._subplots.AxesSubplot at 0x112eccc10>"
      ]
     },
     "execution_count": 15,
     "metadata": {},
     "output_type": "execute_result"
    },
    {
     "data": {
      "image/png": "[encoded data removed]",
      "text/plain": [
       "<matplotlib.figure.Figure at 0x11305d090>"
      ]
     },
     "metadata": {},
     "output_type": "display_data"
    }
   ],
   "source": [
    "sns.heatmap(model_train_errors,\n",
    "           xticklabels=range(4, 40, 2),\n",
    "           yticklabels=[1.0/i for i in range(1, 10)])"
   ]
  },
  {
   "cell_type": "markdown",
   "metadata": {
    "slideshow": {
     "slide_type": "subslide"
    }
   },
   "source": [
    "Okay we see above the regularization on the y axis and the number of data points on the x axis. Notice that as the number of data points increases, so does the training error. Notice that as the model becomes simpler, the training error increases. It can't fit the training data as well."
   ]
  },
  {
   "cell_type": "code",
   "execution_count": 13,
   "metadata": {
    "slideshow": {
     "slide_type": "subslide"
    }
   },
   "outputs": [
    {
     "data": {
      "text/plain": [
       "<matplotlib.axes._subplots.AxesSubplot at 0x112ac51d0>"
      ]
     },
     "execution_count": 13,
     "metadata": {},
     "output_type": "execute_result"
    },
    {
     "data": {
      "image/png": "[encoded data removed]",
      "text/plain": [
       "<matplotlib.figure.Figure at 0x112802250>"
      ]
     },
     "metadata": {},
     "output_type": "display_data"
    }
   ],
   "source": [
    "sns.heatmap(model_generalization_error)"
   ]
  },
  {
   "cell_type": "markdown",
   "metadata": {
    "slideshow": {
     "slide_type": "subslide"
    }
   },
   "source": [
    "But when we look at the generalization error we get the exact opposite trend. As we get more data points we decrease the generalization error. This is because we have a tighter bound. But as we have a simpler model we also decrease the generalization error. Again this is because we have a tighter bound. \n",
    "\n",
    "The other way to look at it is that the simpler model can't as easily fit to noise, and as we have more data points that noise is drowned out by signal."
   ]
  },
  {
   "cell_type": "code",
   "execution_count": 14,
   "metadata": {
    "slideshow": {
     "slide_type": "subslide"
    }
   },
   "outputs": [
    {
     "data": {
      "text/plain": [
       "<matplotlib.axes._subplots.AxesSubplot at 0x112d39690>"
      ]
     },
     "execution_count": 14,
     "metadata": {},
     "output_type": "execute_result"
    },
    {
     "data": {
      "image/png": "[encoded data removed]",
      "text/plain": [
       "<matplotlib.figure.Figure at 0x112b44f50>"
      ]
     },
     "metadata": {},
     "output_type": "display_data"
    }
   ],
   "source": [
    "sns.heatmap(model_test_errors)"
   ]
  },
  {
   "cell_type": "markdown",
   "metadata": {
    "slideshow": {
     "slide_type": "subslide"
    }
   },
   "source": [
    "Finally with the test error we get the sweet spots. The most complex models still don't do as well as the simpler models even though their training error is less. This is because the generalization error is too big."
   ]
  },
  {
   "cell_type": "markdown",
   "metadata": {
    "slideshow": {
     "slide_type": "slide"
    }
   },
   "source": [
    "## Conclusion\n",
    "\n",
    "Regularization is a way to tune the model complexity to hit the sweet spot for your data's noise level and data points. It allows you to tune a couple of parameters to adjust your model's complexity instead of having to completely rethink your model. \n",
    "\n",
    "The question you might be having is: how do we tune this parameter? As you saw above we used the test data to find the best regularization parameter, but this is in reality a big no no. Next time we will find out how we do this in practice."
   ]
  },
  {
   "cell_type": "markdown",
   "metadata": {
    "collapsed": true,
    "slideshow": {
     "slide_type": "slide"
    }
   },
   "source": [
    "## Learning Objectives\n",
    "\n",
    "Today we learn about regularization: an automatic way to adjust the size of the hypothesis set."
   ]
  },
  {
   "cell_type": "markdown",
   "metadata": {
    "slideshow": {
     "slide_type": "slide"
    }
   },
   "source": [
    "## Comprehension Questions\n",
    "\n",
    "1.\tWhat are the reasons to use regularization instead of just manually changing the hypothesis set?\n",
    "2.\tWhy does regularization hurt training error?\n",
    "3.\tDoes regularization always help generalization error?\n",
    "4.\tHow do you find the sweet spot for regularization?\n",
    "5.\tIn what way is regularization like choosing a hypothesis set?\n"
   ]
  }
 ],
 "metadata": {
  "celltoolbar": "Slideshow",
  "kernelspec": {
   "display_name": "Python 2",
   "language": "python",
   "name": "python2"
  },
  "language_info": {
   "codemirror_mode": {
    "name": "ipython",
    "version": 2
   },
   "file_extension": ".py",
   "mimetype": "text/x-python",
   "name": "python",
   "nbconvert_exporter": "python",
   "pygments_lexer": "ipython2",
   "version": "2.7.10"
  }
 },
 "nbformat": 4,
 "nbformat_minor": 2
}
