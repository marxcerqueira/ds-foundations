{
 "cells": [
  {
   "cell_type": "markdown",
   "metadata": {
    "slideshow": {
     "slide_type": "slide"
    }
   },
   "source": [
    "## Learning Objectives\n",
    "\n",
    "We learned how to visualize and take summary statistics of random variables, by sampling!!\n",
    "\n",
    "We will then show how this can be extremely useful by making real world situations into random variables."
   ]
  },
  {
   "cell_type": "markdown",
   "metadata": {
    "slideshow": {
     "slide_type": "slide"
    }
   },
   "source": [
    "## Why the odd name\n",
    "\n",
    "Simulating randomness. A bit of an odd name right? Well it calls attention to something incredibly important with random variables. And that is that they are (often) just simulations of how real life random events work. \n",
    "\n",
    "What do I mean by this?"
   ]
  },
  {
   "cell_type": "markdown",
   "metadata": {
    "slideshow": {
     "slide_type": "subslide"
    }
   },
   "source": [
    "Well the answer is two-fold:\n",
    "\n",
    "1. **Real life isn't always about numbers**. If I told you to pick a random color, you could. If I told you to make a random variable give me back a random color, you might be hard pressed. A random variable can only return a number, so how do I give you a color. For a random variable to simulate this real life event, you would have to convert color into  a number (like RGB) and return that number instead.\n",
    "2. **Real life isn't so exact**. In real life nothing is so exactly random. While a coin flip is generally regarded as a 50-50 shot, certain coins are a bit more unbalanced than most.\n",
    "\n",
    "For these two reasons, r.v. are just simulations. More importantly though, r.v. **are** simulating something. Each r.v. is tied to a real event that can happen in life. These are not meaningless numbers, they are instead representing/simulating real things, like coin flips or dollars earned. "
   ]
  },
  {
   "cell_type": "markdown",
   "metadata": {
    "slideshow": {
     "slide_type": "slide"
    }
   },
   "source": [
    "## Making r.v.\n",
    "\n",
    "So in part to test what we have learned and in part to build intuition, let's simulate some real life events using a random variable.\n",
    "\n",
    "First up, flipping a coin. We know that heads has a 50% shot and tails a 50% shot, but how do we represent heads and tails as a number. what about 1 and -1? then our r.v. would look like:"
   ]
  },
  {
   "cell_type": "code",
   "execution_count": 4,
   "metadata": {
    "collapsed": true,
    "slideshow": {
     "slide_type": "subslide"
    }
   },
   "outputs": [],
   "source": [
    "from numpy.random import rand\n",
    "\n",
    "def coin_toss():\n",
    "    if rand() > 0.5:\n",
    "        return 1\n",
    "    else:\n",
    "        return -1"
   ]
  },
  {
   "cell_type": "markdown",
   "metadata": {
    "slideshow": {
     "slide_type": "fragment"
    }
   },
   "source": [
    "But that choice of value is irrelavant. You could choose anything. In fact the typical choice is using 0 and 1 (called a Bernoulli r.v.)."
   ]
  },
  {
   "cell_type": "markdown",
   "metadata": {
    "slideshow": {
     "slide_type": "subslide"
    }
   },
   "source": [
    "Let's do another one. How about rolling a die. In this can the numbers we should choose to represent each side are a bit more obvious. In this case, the number 1 though 6. Below is how you'd represent that:"
   ]
  },
  {
   "cell_type": "code",
   "execution_count": 2,
   "metadata": {
    "collapsed": true,
    "slideshow": {
     "slide_type": "fragment"
    }
   },
   "outputs": [],
   "source": [
    "def roll_die():\n",
    "    return int(rand() * 6) + 1"
   ]
  },
  {
   "cell_type": "markdown",
   "metadata": {
    "slideshow": {
     "slide_type": "subslide"
    }
   },
   "source": [
    "What about how long you might wait to catch a bus in minutes? Well it could show up immediately, or the bus route could be canceled and it won't show up for another 20 years. That being said it is very likely to show up in the next minute. What random variable could you use? \n",
    "\n",
    "Well in order to make 0 - 1 into a time that could be almost infinitely long, you could take the negative log of it, so perhaps a good r.v. would be:"
   ]
  },
  {
   "cell_type": "code",
   "execution_count": 7,
   "metadata": {
    "collapsed": true,
    "slideshow": {
     "slide_type": "fragment"
    }
   },
   "outputs": [],
   "source": [
    "import numpy as np\n",
    "\n",
    "def expoential_rv():\n",
    "    return - np.log(rand())"
   ]
  },
  {
   "cell_type": "markdown",
   "metadata": {
    "slideshow": {
     "slide_type": "subslide"
    }
   },
   "source": [
    "This is also a special distribution called the exponential distribution (though it might should be called the logarithmic distribution!)\n",
    "\n",
    "And there are so many more! Below I printed out the names of the r.v. implemented in numpy:"
   ]
  },
  {
   "cell_type": "code",
   "execution_count": 9,
   "metadata": {
    "slideshow": {
     "slide_type": "subslide"
    }
   },
   "outputs": [
    {
     "data": {
      "text/plain": [
       "['beta',\n",
       " 'binomial',\n",
       " 'bytes',\n",
       " 'chisquare',\n",
       " 'choice',\n",
       " 'dirichlet',\n",
       " 'exponential',\n",
       " 'f',\n",
       " 'gamma',\n",
       " 'geometric',\n",
       " 'get_state',\n",
       " 'gumbel',\n",
       " 'hypergeometric',\n",
       " 'laplace',\n",
       " 'logistic',\n",
       " 'lognormal',\n",
       " 'logseries',\n",
       " 'multinomial',\n",
       " 'multivariate_normal',\n",
       " 'negative_binomial',\n",
       " 'noncentral_chisquare',\n",
       " 'noncentral_f',\n",
       " 'normal',\n",
       " 'pareto',\n",
       " 'permutation',\n",
       " 'poisson',\n",
       " 'power',\n",
       " 'rand',\n",
       " 'randint',\n",
       " 'randn',\n",
       " 'random_integers',\n",
       " 'random_sample',\n",
       " 'rayleigh',\n",
       " 'seed',\n",
       " 'set_state',\n",
       " 'shuffle',\n",
       " 'standard_cauchy',\n",
       " 'standard_exponential',\n",
       " 'standard_gamma',\n",
       " 'standard_normal',\n",
       " 'standard_t',\n",
       " 'triangular',\n",
       " 'uniform',\n",
       " 'vonmises',\n",
       " 'wald',\n",
       " 'weibull',\n",
       " 'zipf',\n",
       " 'ranf',\n",
       " 'random',\n",
       " 'sample']"
      ]
     },
     "execution_count": 9,
     "metadata": {},
     "output_type": "execute_result"
    }
   ],
   "source": [
    "np.random.__all__"
   ]
  },
  {
   "cell_type": "markdown",
   "metadata": {
    "slideshow": {
     "slide_type": "subslide"
    }
   },
   "source": [
    "This being said, you can go ahead and devote time to studying each of these if you wish. They each have unique properties and are important for their own reasons. But you already know the most important facts about distributions:\n",
    "\n",
    "So simply put, a ramdom variable is a function with the following properties:\n",
    "\n",
    "1. It returns any number of numbers\n",
    "2. The numbers can be random"
   ]
  },
  {
   "cell_type": "markdown",
   "metadata": {
    "slideshow": {
     "slide_type": "slide"
    }
   },
   "source": [
    "## Properties of r.v.\n",
    "\n",
    "What is even more interesting is that these r.v. can be described using the summary statistics that we saw before:\n",
    "\n",
    "1. Center statistics. Things that tell us where the center or majority of the data lives. Eg. the mean, median and mode (plus a ton of other arcane measures, geometric mean, winsorized mean, etc.)\n",
    "2. Spread. Measures how far away from the center is your data. Eg. standard deviation and variance (plus again a ton of other measures like the absolute deviation, range, gini coefficient, etc.)\n",
    "3. Dependence. How related are two factors. Eg. correlation (Pearson's specifically)\n",
    "4. Shape. What is the shape of the distribution of the data (skewness and kurtosis)"
   ]
  },
  {
   "cell_type": "markdown",
   "metadata": {
    "slideshow": {
     "slide_type": "subslide"
    }
   },
   "source": [
    "But how?\n",
    "\n",
    "Remember, once we had a dataset we could calculate and visualize all of the above. But we don't have a dataset, we just have a r.v. :(\n",
    "\n",
    "Well in fact we have both. Remember last week we sampled from a r.v., well if we pull enough samples, then we will be able to get the summary statistics of a r.v. too. Those samples become our dataset.\n",
    "\n",
    "Let's try it out. Let's get the mean of our exponential distribution:"
   ]
  },
  {
   "cell_type": "code",
   "execution_count": 11,
   "metadata": {
    "slideshow": {
     "slide_type": "subslide"
    }
   },
   "outputs": [
    {
     "data": {
      "text/plain": [
       "0.90492410928104294"
      ]
     },
     "execution_count": 11,
     "metadata": {},
     "output_type": "execute_result"
    }
   ],
   "source": [
    "np.mean([expoential_rv() for i in range(5)])"
   ]
  },
  {
   "cell_type": "markdown",
   "metadata": {
    "slideshow": {
     "slide_type": "subslide"
    }
   },
   "source": [
    "Done, right...?\n",
    "\n",
    "Well it is a little more complicated than that.\n",
    "\n",
    "To get the real mean (not an approximate mean) of a r.v. you would have to take INFINITE SAMPLES!!!!\n",
    "\n",
    "And that is a bit too many... So what can we do instead? \n",
    "\n",
    "Well we can just take a sufficiently large sample. So instead of five, how about OVER 9000!!!! (Close enough to infinity right!):"
   ]
  },
  {
   "cell_type": "code",
   "execution_count": 12,
   "metadata": {
    "slideshow": {
     "slide_type": "fragment"
    }
   },
   "outputs": [
    {
     "data": {
      "text/plain": [
       "0.99811335111363186"
      ]
     },
     "execution_count": 12,
     "metadata": {},
     "output_type": "execute_result"
    }
   ],
   "source": [
    "np.mean([expoential_rv() for i in range(9001)])"
   ]
  },
  {
   "cell_type": "markdown",
   "metadata": {
    "slideshow": {
     "slide_type": "subslide"
    }
   },
   "source": [
    "And tada! We are actually pretty close to what the actual mean should be (1 if you were guessing). \n",
    "\n",
    "And we can do the same thing with all the other measures, so for example we can print the standard deviation (should also be near 1):"
   ]
  },
  {
   "cell_type": "code",
   "execution_count": 13,
   "metadata": {
    "slideshow": {
     "slide_type": "fragment"
    }
   },
   "outputs": [
    {
     "data": {
      "text/plain": [
       "1.0428196307964019"
      ]
     },
     "execution_count": 13,
     "metadata": {},
     "output_type": "execute_result"
    }
   ],
   "source": [
    "np.std([expoential_rv() for i in range(9001)])"
   ]
  },
  {
   "cell_type": "markdown",
   "metadata": {
    "slideshow": {
     "slide_type": "subslide"
    }
   },
   "source": [
    "And we can even plot it's distribution:"
   ]
  },
  {
   "cell_type": "code",
   "execution_count": 8,
   "metadata": {
    "slideshow": {
     "slide_type": "subslide"
    }
   },
   "outputs": [
    {
     "data": {
      "text/plain": [
       "<matplotlib.axes._subplots.AxesSubplot at 0x10c09f7d0>"
      ]
     },
     "execution_count": 8,
     "metadata": {},
     "output_type": "execute_result"
    },
    {
     "data": {
      "image/png": "[encoded data removed]",
      "text/plain": [
       "<matplotlib.figure.Figure at 0x1060fc710>"
      ]
     },
     "metadata": {},
     "output_type": "display_data"
    }
   ],
   "source": [
    "%matplotlib inline\n",
    "import seaborn as sns\n",
    "\n",
    "sns.distplot([expoential_rv() for i in range(9001)])"
   ]
  },
  {
   "cell_type": "markdown",
   "metadata": {
    "slideshow": {
     "slide_type": "subslide"
    }
   },
   "source": [
    "Quiz time! Does this distribution have heavy skew or kurtosis???"
   ]
  },
  {
   "cell_type": "markdown",
   "metadata": {
    "slideshow": {
     "slide_type": "subslide"
    }
   },
   "source": [
    "## Why does this matter\n",
    "\n",
    "Why did we learn so much about distributions? How will this help at all?\n",
    "\n",
    "Well if you'd been paying attention, then the answer should be screaming at you. \n",
    "\n",
    "Above we considered a real life situation: waiting on the bus. We simulated this situation using a random variable. We then were able to calculate what the expected amount of time that we would wait. How far on average are other expected times. What the distribution would look like. A ton of stuff! \n",
    "\n",
    "If we simulate real world situations with r.v. then you are able to answer a ton of quantitative questions about that situation that you would not have otherwise been able to answer.\n",
    "\n",
    "Next time we will be talking about statistic's second favorite acronym, iid. This will give us the tools that we will need to answer the big questions. But next time!"
   ]
  },
  {
   "cell_type": "markdown",
   "metadata": {
    "collapsed": true,
    "slideshow": {
     "slide_type": "slide"
    }
   },
   "source": [
    "## Learning Objectives\n",
    "\n",
    "We learned how to visualize and take summary statistics of random variables, by sampling!!\n",
    "\n",
    "We will then show how this can be extremely useful by making real world situations into random variables."
   ]
  },
  {
   "cell_type": "markdown",
   "metadata": {
    "slideshow": {
     "slide_type": "slide"
    }
   },
   "source": [
    "## Comprehension Questions\n",
    "\n",
    "1.\tWhy are random variables important?\n",
    "2.\tWhy do we choose certain numbers to represent certain outcomes (like 0 and 1 for a coin toss)?\n",
    "3.\tHow would you make a random variable that would represent the number of times you’d have to flip a coin till you get a head?\n",
    "4.\tHow would you write a random variable for the number of people to participate in an election?\n",
    "5.\tWhy would we want a summary statistic of a random variable? \n",
    "6.\tWhy do we need infinite samples to find the mean of a random variable?\n"
   ]
  }
 ],
 "metadata": {
  "celltoolbar": "Slideshow",
  "kernelspec": {
   "display_name": "Python 2",
   "language": "python",
   "name": "python2"
  },
  "language_info": {
   "codemirror_mode": {
    "name": "ipython",
    "version": 2
   },
   "file_extension": ".py",
   "mimetype": "text/x-python",
   "name": "python",
   "nbconvert_exporter": "python",
   "pygments_lexer": "ipython2",
   "version": "2.7.13"
  }
 },
 "nbformat": 4,
 "nbformat_minor": 2
}
