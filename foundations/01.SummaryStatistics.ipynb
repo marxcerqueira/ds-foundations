{
 "cells": [
  {
   "cell_type": "markdown",
   "metadata": {
    "slideshow": {
     "slide_type": "slide"
    }
   },
   "source": [
    "# Learning objectives\n",
    "\n",
    "We will learn the basic lingo around data and specifically talk about two types of data: quantitative and qualitative.\n",
    "\n",
    "We then go over how to succinctly describe both types of data with summary statistics. \n",
    "\n",
    "While basic, this lesson will give us a common vocabulary that we will use for the rest of the class."
   ]
  },
  {
   "cell_type": "markdown",
   "metadata": {
    "slideshow": {
     "slide_type": "slide"
    }
   },
   "source": [
    "# How We begin\n",
    "\n",
    "We begin the journey into data science with a single assumption, we have data. While this may sound like a must, it is actually not always the case. Sometimes you will begin without any data and you will be asked to rectify that problem in any number of ways: collecting it, purchasing, scraping, etc. \n",
    "\n",
    "So while the first stage of data science might actually be collecting data, this is not where **we** will start. First we will get a feel for data. Try to understand what we can do with it and what is a 'good dataset'. Then hopefully that first problem will work itself out. "
   ]
  },
  {
   "cell_type": "markdown",
   "metadata": {
    "slideshow": {
     "slide_type": "slide"
    }
   },
   "source": [
    "## The data assumption\n",
    "\n",
    "So as you will come to expect, let's start off by listing the assumptions we have made (and as you will further come to expect we will do it in graph form):"
   ]
  },
  {
   "cell_type": "code",
   "execution_count": 1,
   "metadata": {
    "slideshow": {
     "slide_type": "subslide"
    }
   },
   "outputs": [
    {
     "data": {
      "image/png": "[encoded data removed]",
      "text/plain": [
       "<IPython.core.display.Image object>"
      ]
     },
     "execution_count": 1,
     "metadata": {},
     "output_type": "execute_result"
    }
   ],
   "source": [
    "import networkx as nx\n",
    "from nxpd import draw\n",
    "from nxpd import nxpdParams\n",
    "nxpdParams['show'] = 'ipynb'\n",
    "\n",
    "G = nx.DiGraph()\n",
    "G.add_node('Inputs (x_1, x_2, ..., x_n)')\n",
    "draw(G)"
   ]
  },
  {
   "cell_type": "markdown",
   "metadata": {
    "slideshow": {
     "slide_type": "fragment"
    }
   },
   "source": [
    "Just one node/bubble (we will get more don't worry). And as you will see in a moment, there is some that we can do by only relying on this assumption, but not much. \n",
    "\n",
    "I will call this node the input node, it's basically the dataset. Notice that our dataset contains multiple points (x_1, x_2, ...).\n",
    "\n",
    "We start off by assuming we have a series of data points. We will focus on describing these data points today."
   ]
  },
  {
   "cell_type": "markdown",
   "metadata": {
    "slideshow": {
     "slide_type": "slide"
    }
   },
   "source": [
    "## To the data\n",
    "\n",
    "So we are not just in the realm of the theoretical, let's \"get\" some actual data."
   ]
  },
  {
   "cell_type": "code",
   "execution_count": 2,
   "metadata": {
    "collapsed": true,
    "slideshow": {
     "slide_type": "fragment"
    }
   },
   "outputs": [],
   "source": [
    "data = {\n",
    "    'quantitative1': [1, 4, 6, 10, 15, 16],\n",
    "    'quantitative2': [4, 6, 12, 13, 16, 19],\n",
    "    'qualitative': ['red', 'blue', 'red', 'blue', 'yellow', 'red']\n",
    "}"
   ]
  },
  {
   "cell_type": "code",
   "execution_count": 4,
   "metadata": {
    "slideshow": {
     "slide_type": "subslide"
    }
   },
   "outputs": [
    {
     "data": {
      "text/html": [
       "<div>\n",
       "<style>\n",
       "    .dataframe thead tr:only-child th {\n",
       "        text-align: right;\n",
       "    }\n",
       "\n",
       "    .dataframe thead th {\n",
       "        text-align: left;\n",
       "    }\n",
       "\n",
       "    .dataframe tbody tr th {\n",
       "        vertical-align: top;\n",
       "    }\n",
       "</style>\n",
       "<table border=\"1\" class=\"dataframe\">\n",
       "  <thead>\n",
       "    <tr style=\"text-align: right;\">\n",
       "      <th></th>\n",
       "      <th>qualitative</th>\n",
       "      <th>quantitative1</th>\n",
       "      <th>quantitative2</th>\n",
       "    </tr>\n",
       "  </thead>\n",
       "  <tbody>\n",
       "    <tr>\n",
       "      <th>0</th>\n",
       "      <td>red</td>\n",
       "      <td>1</td>\n",
       "      <td>4</td>\n",
       "    </tr>\n",
       "    <tr>\n",
       "      <th>1</th>\n",
       "      <td>blue</td>\n",
       "      <td>4</td>\n",
       "      <td>6</td>\n",
       "    </tr>\n",
       "    <tr>\n",
       "      <th>2</th>\n",
       "      <td>red</td>\n",
       "      <td>6</td>\n",
       "      <td>12</td>\n",
       "    </tr>\n",
       "    <tr>\n",
       "      <th>3</th>\n",
       "      <td>blue</td>\n",
       "      <td>10</td>\n",
       "      <td>13</td>\n",
       "    </tr>\n",
       "    <tr>\n",
       "      <th>4</th>\n",
       "      <td>yellow</td>\n",
       "      <td>15</td>\n",
       "      <td>16</td>\n",
       "    </tr>\n",
       "    <tr>\n",
       "      <th>5</th>\n",
       "      <td>red</td>\n",
       "      <td>16</td>\n",
       "      <td>19</td>\n",
       "    </tr>\n",
       "  </tbody>\n",
       "</table>\n",
       "</div>"
      ],
      "text/plain": [
       "  qualitative  quantitative1  quantitative2\n",
       "0         red              1              4\n",
       "1        blue              4              6\n",
       "2         red              6             12\n",
       "3        blue             10             13\n",
       "4      yellow             15             16\n",
       "5         red             16             19"
      ]
     },
     "execution_count": 4,
     "metadata": {},
     "output_type": "execute_result"
    }
   ],
   "source": [
    "import pandas as pd\n",
    "\n",
    "# and now let's put that data in a DataFrame (python's Excel spreadsheet)\n",
    "pd.DataFrame(data)"
   ]
  },
  {
   "cell_type": "markdown",
   "metadata": {
    "slideshow": {
     "slide_type": "fragment"
    }
   },
   "source": [
    "There we have it. Notice that my data has multiple columns (quant and qual) and rows (6 rows to be exact). The columns can sometimes go by other names: dimensions, features, covariates, m, etc. and the rows can go by other names too: samples, data points, n, etc.\n",
    "\n",
    "I will generally call the columns features and the rows data points."
   ]
  },
  {
   "cell_type": "markdown",
   "metadata": {
    "slideshow": {
     "slide_type": "slide"
    }
   },
   "source": [
    "\n",
    "\n",
    "## Quant or Qual?\n",
    "\n",
    "And notice that they come in two flavors:\n",
    "\n",
    "1. Quantitative: something that you can describe with a number (speed, location, size, etc.)\n",
    "2. Qualitative: something that is hard to describe with an exact number (language, make of a car, etc.)\n",
    "\n",
    "You will also notice very fine lines. The definitions can be crossed pretty easily. But perhaps the best question you can ask about a particular feature to determine if it is a quantitative or a qualitative feature is: can I average the feature?"
   ]
  },
  {
   "cell_type": "markdown",
   "metadata": {
    "slideshow": {
     "slide_type": "subslide"
    }
   },
   "source": [
    "In this respect we can see how things that you classically thought were qualitative can become quantitative. For example, this might seem plausible:\n",
    "\n",
    "```\n",
    "ave(depressed , content) = melancholy\n",
    "```\n",
    "\n",
    "Then maybe instead of using qualitative descriptions, you should be using a happiness score/index. But then you can look at this puzzling question:\n",
    "```\n",
    "ave(confused , giddy) = ?\n",
    "```\n",
    "\n",
    "Perhaps you should just be using a qualitative feature at this point. "
   ]
  },
  {
   "cell_type": "markdown",
   "metadata": {
    "slideshow": {
     "slide_type": "subslide"
    }
   },
   "source": [
    "But now we are well on our way to describing data. \n",
    "\n",
    "1. We can talk about how many features and data points we have. \n",
    "2. And we can talk about whether the features are quantitative or qualitative. \n",
    "\n",
    "But there is so much more that we can do!"
   ]
  },
  {
   "cell_type": "markdown",
   "metadata": {
    "slideshow": {
     "slide_type": "slide"
    }
   },
   "source": [
    "## Describing qualitative features\n",
    "\n",
    "The classic way that we can describe features (other than what we alluded to above) is with summary statistics a description of the data using a single number. An example would be the average of a particular column.\n",
    "\n",
    "A summary statistic is innately a quantitative one (it is a number). Because qualitative features are non-quantitative (are not numbers themselves), there are only a few summary statistics (numbers describing them) that make sense. \n",
    "\n",
    "One of them is the **count** of each term. We can do this using the python library pandas below:"
   ]
  },
  {
   "cell_type": "code",
   "execution_count": 5,
   "metadata": {
    "slideshow": {
     "slide_type": "subslide"
    }
   },
   "outputs": [
    {
     "data": {
      "text/plain": [
       "qualitative\n",
       "blue      2\n",
       "red       3\n",
       "yellow    1\n",
       "Name: qualitative, dtype: int64"
      ]
     },
     "execution_count": 5,
     "metadata": {},
     "output_type": "execute_result"
    }
   ],
   "source": [
    "df = pd.DataFrame(data)\n",
    "\n",
    "df.groupby('qualitative').qualitative.count()"
   ]
  },
  {
   "cell_type": "markdown",
   "metadata": {
    "slideshow": {
     "slide_type": "fragment"
    }
   },
   "source": [
    "In such a way we can get a sense of what types of data we have and how many of each. We can easily get the **mode** (or the most common type) from this analysis as well.\n",
    "\n",
    "As a final note, some qualitative data can be ordered, and in this case you will be able to find the **median** (the center) of that data as well."
   ]
  },
  {
   "cell_type": "markdown",
   "metadata": {
    "slideshow": {
     "slide_type": "slide"
    }
   },
   "source": [
    "## Describing quantiative features\n",
    "\n",
    "Now we are getting into the good stuff. We are looking to describe quantitative features with quantitative statistics. Remember that we are doing the impossible. We are taking what could be millions of data points and summarizing them with a single number, so these had better be pretty important numbers! And it turns out they are. They fall into four categories:\n",
    "\n",
    "1. **Center statistics**. Things that tell us where the center or majority of the data lives. Eg. the mean, median and mode (plus a ton of other arcane measures, geometric mean, winsorized mean, etc.)\n",
    "2. **Spread**. Measures how far away from the center is your data. Eg. standard deviation and variance (plus again a ton of other measures like the absolute deviation, range, gini coefficient, etc.)\n",
    "3. **Dependence**. How related are two factors. Eg. correlation (Pearson's specifically)\n",
    "4. **Shape**. What is the shape of the distribution of the data (more on this next time)\n"
   ]
  },
  {
   "cell_type": "markdown",
   "metadata": {
    "slideshow": {
     "slide_type": "subslide"
    }
   },
   "source": [
    "These are the most important summary statistics and if you know them about your data, you can generally infer a ton about it. But don't be fooled! You might know less than you think! Just knowing the mean of a data set does not tell you too much about it. The prime example is a bimodal distribution (google it).\n",
    "\n",
    "<blockquote>\n",
    "  A question to ask yourself is: why do we care about any of these measures\n",
    "</blockquote>\n",
    "\n",
    "Below is how we get the center and spead statistics:"
   ]
  },
  {
   "cell_type": "code",
   "execution_count": 6,
   "metadata": {
    "slideshow": {
     "slide_type": "subslide"
    }
   },
   "outputs": [
    {
     "name": "stdout",
     "output_type": "stream",
     "text": [
      "8.66666666667\n",
      "6.05530070819\n",
      "8.0\n"
     ]
    }
   ],
   "source": [
    "print df.quantitative1.mean()\n",
    "# standard deviation\n",
    "print df.quantitative1.std()\n",
    "print df.quantitative1.median()"
   ]
  },
  {
   "cell_type": "code",
   "execution_count": 7,
   "metadata": {
    "slideshow": {
     "slide_type": "subslide"
    }
   },
   "outputs": [
    {
     "data": {
      "text/html": [
       "<div>\n",
       "<style>\n",
       "    .dataframe thead tr:only-child th {\n",
       "        text-align: right;\n",
       "    }\n",
       "\n",
       "    .dataframe thead th {\n",
       "        text-align: left;\n",
       "    }\n",
       "\n",
       "    .dataframe tbody tr th {\n",
       "        vertical-align: top;\n",
       "    }\n",
       "</style>\n",
       "<table border=\"1\" class=\"dataframe\">\n",
       "  <thead>\n",
       "    <tr style=\"text-align: right;\">\n",
       "      <th></th>\n",
       "      <th>quantitative1</th>\n",
       "      <th>quantitative2</th>\n",
       "    </tr>\n",
       "  </thead>\n",
       "  <tbody>\n",
       "    <tr>\n",
       "      <th>count</th>\n",
       "      <td>6.000000</td>\n",
       "      <td>6.000000</td>\n",
       "    </tr>\n",
       "    <tr>\n",
       "      <th>mean</th>\n",
       "      <td>8.666667</td>\n",
       "      <td>11.666667</td>\n",
       "    </tr>\n",
       "    <tr>\n",
       "      <th>std</th>\n",
       "      <td>6.055301</td>\n",
       "      <td>5.750362</td>\n",
       "    </tr>\n",
       "    <tr>\n",
       "      <th>min</th>\n",
       "      <td>1.000000</td>\n",
       "      <td>4.000000</td>\n",
       "    </tr>\n",
       "    <tr>\n",
       "      <th>25%</th>\n",
       "      <td>4.500000</td>\n",
       "      <td>7.500000</td>\n",
       "    </tr>\n",
       "    <tr>\n",
       "      <th>50%</th>\n",
       "      <td>8.000000</td>\n",
       "      <td>12.500000</td>\n",
       "    </tr>\n",
       "    <tr>\n",
       "      <th>75%</th>\n",
       "      <td>13.750000</td>\n",
       "      <td>15.250000</td>\n",
       "    </tr>\n",
       "    <tr>\n",
       "      <th>max</th>\n",
       "      <td>16.000000</td>\n",
       "      <td>19.000000</td>\n",
       "    </tr>\n",
       "  </tbody>\n",
       "</table>\n",
       "</div>"
      ],
      "text/plain": [
       "       quantitative1  quantitative2\n",
       "count       6.000000       6.000000\n",
       "mean        8.666667      11.666667\n",
       "std         6.055301       5.750362\n",
       "min         1.000000       4.000000\n",
       "25%         4.500000       7.500000\n",
       "50%         8.000000      12.500000\n",
       "75%        13.750000      15.250000\n",
       "max        16.000000      19.000000"
      ]
     },
     "execution_count": 7,
     "metadata": {},
     "output_type": "execute_result"
    }
   ],
   "source": [
    "df.describe()"
   ]
  },
  {
   "cell_type": "markdown",
   "metadata": {
    "slideshow": {
     "slide_type": "subslide"
    }
   },
   "source": [
    "Let me briefly explain what these terms mean:\n",
    "\n",
    "1. Count\n",
    "2. Mean\n",
    "3. Std - standard deviation. How far is each data point from the mean on average. If you square this you get the variance.\n",
    "4. Min.\n",
    "5. 25% - lower quartile. If you ordered the data and removed the bottom 25%, what is the new min.\n",
    "6. 50% - Median.\n",
    "7. 75% - upper quartile. If you ordered the data and removed the bottom 75%, what is the new min.\n",
    "8. Max\n",
    "\n",
    "During our next lesson (when we make visualizations) we will get a better feel for these quantities and what they look like.\n",
    "\n",
    "For reference, here is the original data. Does it make sense that the mean of the quantitative1 is lower than the mean of quantitative2?"
   ]
  },
  {
   "cell_type": "code",
   "execution_count": 26,
   "metadata": {
    "slideshow": {
     "slide_type": "subslide"
    }
   },
   "outputs": [
    {
     "data": {
      "text/html": [
       "<div>\n",
       "<style>\n",
       "    .dataframe thead tr:only-child th {\n",
       "        text-align: right;\n",
       "    }\n",
       "\n",
       "    .dataframe thead th {\n",
       "        text-align: left;\n",
       "    }\n",
       "\n",
       "    .dataframe tbody tr th {\n",
       "        vertical-align: top;\n",
       "    }\n",
       "</style>\n",
       "<table border=\"1\" class=\"dataframe\">\n",
       "  <thead>\n",
       "    <tr style=\"text-align: right;\">\n",
       "      <th></th>\n",
       "      <th>qualitative</th>\n",
       "      <th>quantitative1</th>\n",
       "      <th>quantitative2</th>\n",
       "    </tr>\n",
       "  </thead>\n",
       "  <tbody>\n",
       "    <tr>\n",
       "      <th>0</th>\n",
       "      <td>red</td>\n",
       "      <td>1</td>\n",
       "      <td>4</td>\n",
       "    </tr>\n",
       "    <tr>\n",
       "      <th>1</th>\n",
       "      <td>blue</td>\n",
       "      <td>4</td>\n",
       "      <td>6</td>\n",
       "    </tr>\n",
       "    <tr>\n",
       "      <th>2</th>\n",
       "      <td>red</td>\n",
       "      <td>6</td>\n",
       "      <td>12</td>\n",
       "    </tr>\n",
       "    <tr>\n",
       "      <th>3</th>\n",
       "      <td>blue</td>\n",
       "      <td>10</td>\n",
       "      <td>13</td>\n",
       "    </tr>\n",
       "    <tr>\n",
       "      <th>4</th>\n",
       "      <td>yellow</td>\n",
       "      <td>15</td>\n",
       "      <td>16</td>\n",
       "    </tr>\n",
       "    <tr>\n",
       "      <th>5</th>\n",
       "      <td>red</td>\n",
       "      <td>16</td>\n",
       "      <td>19</td>\n",
       "    </tr>\n",
       "  </tbody>\n",
       "</table>\n",
       "</div>"
      ],
      "text/plain": [
       "  qualitative  quantitative1  quantitative2\n",
       "0         red              1              4\n",
       "1        blue              4              6\n",
       "2         red              6             12\n",
       "3        blue             10             13\n",
       "4      yellow             15             16\n",
       "5         red             16             19"
      ]
     },
     "execution_count": 26,
     "metadata": {},
     "output_type": "execute_result"
    }
   ],
   "source": [
    "df"
   ]
  },
  {
   "cell_type": "markdown",
   "metadata": {
    "slideshow": {
     "slide_type": "subslide"
    }
   },
   "source": [
    "And below here is how you would get the dependence summary statistic that we will be using:"
   ]
  },
  {
   "cell_type": "code",
   "execution_count": 27,
   "metadata": {
    "slideshow": {
     "slide_type": "fragment"
    }
   },
   "outputs": [
    {
     "data": {
      "text/html": [
       "<div>\n",
       "<style>\n",
       "    .dataframe thead tr:only-child th {\n",
       "        text-align: right;\n",
       "    }\n",
       "\n",
       "    .dataframe thead th {\n",
       "        text-align: left;\n",
       "    }\n",
       "\n",
       "    .dataframe tbody tr th {\n",
       "        vertical-align: top;\n",
       "    }\n",
       "</style>\n",
       "<table border=\"1\" class=\"dataframe\">\n",
       "  <thead>\n",
       "    <tr style=\"text-align: right;\">\n",
       "      <th></th>\n",
       "      <th>quantitative1</th>\n",
       "      <th>quantitative2</th>\n",
       "    </tr>\n",
       "  </thead>\n",
       "  <tbody>\n",
       "    <tr>\n",
       "      <th>quantitative1</th>\n",
       "      <td>1.000000</td>\n",
       "      <td>0.961129</td>\n",
       "    </tr>\n",
       "    <tr>\n",
       "      <th>quantitative2</th>\n",
       "      <td>0.961129</td>\n",
       "      <td>1.000000</td>\n",
       "    </tr>\n",
       "  </tbody>\n",
       "</table>\n",
       "</div>"
      ],
      "text/plain": [
       "               quantitative1  quantitative2\n",
       "quantitative1       1.000000       0.961129\n",
       "quantitative2       0.961129       1.000000"
      ]
     },
     "execution_count": 27,
     "metadata": {},
     "output_type": "execute_result"
    }
   ],
   "source": [
    "df.corr()"
   ]
  },
  {
   "cell_type": "markdown",
   "metadata": {
    "slideshow": {
     "slide_type": "fragment"
    }
   },
   "source": [
    "The correlation tells us how related two factors are. It lies between -1 and 1. If it is close to 1, the two quantities are very related (when one is positive, the other is also positive), if 0 they seem unrelated and if -1 they are inversely related (when one is positive the other is negative). We will explore this more later in the course."
   ]
  },
  {
   "cell_type": "markdown",
   "metadata": {
    "slideshow": {
     "slide_type": "slide"
    }
   },
   "source": [
    "## Wrapping up\n",
    "\n",
    "So now you know some stuff. \n",
    "\n",
    "* You know it is important to list out your assumptions. \n",
    "* You know that data comes in two flavors. \n",
    "* And you know how to describe that data using just a few numbers.\n",
    "\n",
    "Well who cares?\n",
    "\n"
   ]
  },
  {
   "cell_type": "markdown",
   "metadata": {
    "slideshow": {
     "slide_type": "subslide"
    }
   },
   "source": [
    "Well once you get more of a feel for what these summary statistics mean (what data that exhibit these statistics looks like) it turns out that you can communicate a lot by just using them. So instead of walking through pages of data during a presentation, you can just go through a couple numbers. \n",
    "\n",
    "Then a couple of lectures down the line we will show that we can use them to infer larger truths! \n",
    "\n",
    "Because remember, if you only make the above assumption, **we have data**, you can't say too much. \n",
    "\n",
    "For example, if you collect a dataset of people's heights and you find the mean is 6 feet, you might be tempted to make assumptions about the height of people in general, **BUT** with the above assumption you can only say: The mean of my data is six feet. Or: the mean heights of the people I sampled is 6 feet. YOU CANNOT SAY ANYTHING IN GENERAL!!\n",
    "\n",
    "But don't worry, we will get there in time."
   ]
  },
  {
   "cell_type": "markdown",
   "metadata": {
    "slideshow": {
     "slide_type": "slide"
    }
   },
   "source": [
    "# Learning objectives\n",
    "\n",
    "We will learn the basic lingo around data and specifically talk about two types of data: quantitative and qualitative.\n",
    "\n",
    "We then go over how to succinctly describe both types of data with summary statistics. \n",
    "\n",
    "While basic, this lesson will give us a common vocabulary that we will use for the rest of the class."
   ]
  },
  {
   "cell_type": "markdown",
   "metadata": {
    "slideshow": {
     "slide_type": "slide"
    }
   },
   "source": [
    "## Comprehension Questions\n",
    "\n",
    "1.\tWhat is ‘good’ data? How would you collect data that is good?\n",
    "2.\tHow many numbers is a single data point?\n",
    "3.\tIs quantitative data more objective that qualitative data?\n",
    "4.\tWhat is an example of ordered qualitative data?\n",
    "5.\tDo highly correlated features cause each other?\n",
    "6.\tWhat are some common summary statistics that you might hear on the news? What do they communicate? What don’t they communicate?\n",
    "7.\tIf we have a dataset of all billionaires in the USA, can you say anything about billionaires globally?"
   ]
  },
  {
   "cell_type": "markdown",
   "metadata": {
    "collapsed": true
   },
   "source": []
  }
 ],
 "metadata": {
  "celltoolbar": "Slideshow",
  "kernelspec": {
   "display_name": "Python 2",
   "language": "python",
   "name": "python2"
  },
  "language_info": {
   "codemirror_mode": {
    "name": "ipython",
    "version": 2
   },
   "file_extension": ".py",
   "mimetype": "text/x-python",
   "name": "python",
   "nbconvert_exporter": "python",
   "pygments_lexer": "ipython2",
   "version": "2.7.13"
  }
 },
 "nbformat": 4,
 "nbformat_minor": 2
}
