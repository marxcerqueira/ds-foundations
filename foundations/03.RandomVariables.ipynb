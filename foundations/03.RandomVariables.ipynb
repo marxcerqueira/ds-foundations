{
 "cells": [
  {
   "cell_type": "markdown",
   "metadata": {
    "slideshow": {
     "slide_type": "slide"
    }
   },
   "source": [
    "# Learning objectives\n",
    "\n",
    "Today we are going to add another assumption to our small graph:\n",
    "\n",
    "* IID samples from a r.v. X\n",
    "\n",
    "And we are going to learn about what sampling and r.v. (random variables) are. Though we are going to have to wait until next lesson to see them in use."
   ]
  },
  {
   "cell_type": "markdown",
   "metadata": {
    "slideshow": {
     "slide_type": "slide"
    }
   },
   "source": [
    "## More assumptions\n",
    "\n",
    "Before we even mention what new assumptions we will be making, we first need to ask ourselves, why do we need to make any more assumptions? \n",
    "\n",
    "At this point we have our data, isn't that enough?\n",
    "\n",
    "Well, currently we can only answer questions about the data that we have. \n",
    "\n",
    "But isn't that enough?"
   ]
  },
  {
   "cell_type": "markdown",
   "metadata": {
    "slideshow": {
     "slide_type": "subslide"
    }
   },
   "source": [
    "Well somtimes. If you have enough money and time to ask every person in the world how tall they are, then you can use that data and our one assumption to answer some pretty useful questions. But often that is too expensive and time consuming.\n",
    "\n",
    "Or more commonly you will be able to collect data about current users, but you want to know the behaviour of future users.\n",
    "\n",
    "There are so many situations where you just can't get all the data. And in these situations it would be nice to say something about the data that you haven't seen. \n",
    "\n"
   ]
  },
  {
   "cell_type": "markdown",
   "metadata": {
    "slideshow": {
     "slide_type": "subslide"
    }
   },
   "source": [
    "#### But why more assumptions\n",
    "\n",
    "Well say you collect 100 people's heights. So you have data. And you want to say something about the average height of people in general. What would you do? \n",
    "\n",
    "More than likely you might say: Well take the average height of the people I asked and that is probably a good estimate. *But is it?*\n",
    "\n",
    "What if the people you asked were all basketball players? Or the people were asked a thousand years ago (people were shorter then). Then would your estimate be a good one?\n",
    "\n",
    "With the current assumptions that we have made, we just can't say anything about data we have not seen, and this won't do.\n",
    "\n"
   ]
  },
  {
   "cell_type": "markdown",
   "metadata": {
    "slideshow": {
     "slide_type": "slide"
    }
   },
   "source": [
    "## It comes from a random variable\n",
    "\n",
    "So with no further ado, let's write our our next assumption that will help us do the above (understand data that we have yet to see):"
   ]
  },
  {
   "cell_type": "code",
   "execution_count": 1,
   "metadata": {
    "slideshow": {
     "slide_type": "subslide"
    }
   },
   "outputs": [
    {
     "data": {
      "image/png": "[encoded data removed]",
      "text/plain": [
       "<IPython.core.display.Image object>"
      ]
     },
     "execution_count": 1,
     "metadata": {},
     "output_type": "execute_result"
    }
   ],
   "source": [
    "import networkx as nx\n",
    "from nxpd import draw\n",
    "from nxpd import nxpdParams\n",
    "nxpdParams['show'] = 'ipynb'\n",
    "\n",
    "G = nx.DiGraph()\n",
    "G.add_node('IID samples from a r.v. X')\n",
    "G.add_node('Inputs (x_1, x_2, ..., x_n)')\n",
    "G.add_edge('IID samples from a r.v. X', 'Inputs (x_1, x_2, ..., x_n)')\n",
    "draw(G)"
   ]
  },
  {
   "cell_type": "markdown",
   "metadata": {
    "slideshow": {
     "slide_type": "subslide"
    }
   },
   "source": [
    "Okay the good news is that we have our old familiar inputs, with n rows and m columns. The bad news is that we have a new node with a ton of completely new words. But that's okay because we are here to learn!\n",
    "\n",
    "The words we will learn will be:\n",
    "\n",
    "1. Random variables (r.v.)\n",
    "2. IID\n",
    "3. Samples\n",
    "\n"
   ]
  },
  {
   "cell_type": "markdown",
   "metadata": {
    "slideshow": {
     "slide_type": "subslide"
    }
   },
   "source": [
    "So we will take this one step at a time. Over the next couple lessons we will be exploring what these words mean, and then a few lessons down the line we will be talking about the power of this assumption. \n",
    "\n",
    "As a final word, this is not the only assumption that we can make, though this is by far the most common and applicable assumption. As we near the end of the course I will talk a little bit about different sets of assumptions that we could make and how these might influence our learning, but now is not the time or place for that. Just know that this is a perfectly reasonable and super useful assumption to make.\n",
    "\n"
   ]
  },
  {
   "cell_type": "markdown",
   "metadata": {
    "slideshow": {
     "slide_type": "slide"
    }
   },
   "source": [
    "## What is a random variable?\n",
    "\n",
    "This can often be an extremely hard subject to teach to students (with a ton of very odd metaphors: houses, blueprints, boxes and more). But what is really nice here is that we already have a common language that we can use to great effect, and that is computer science/python!\n",
    "\n",
    "So simply put, a ramdom variable is a function with the following properties:\n",
    "\n",
    "1. It returns any number of numbers\n",
    "2. The numbers can be random\n",
    "\n",
    "That is it. These are all the rules of a random variable (often abreviated r.v.). But to have this sink in, let's make a few random variables:"
   ]
  },
  {
   "cell_type": "code",
   "execution_count": 2,
   "metadata": {
    "slideshow": {
     "slide_type": "subslide"
    }
   },
   "outputs": [],
   "source": [
    "def always_1_rv():\n",
    "    return 1"
   ]
  },
  {
   "cell_type": "markdown",
   "metadata": {
    "slideshow": {
     "slide_type": "fragment"
    }
   },
   "source": [
    "This is a random variable (not so random or variable right?)"
   ]
  },
  {
   "cell_type": "code",
   "execution_count": 3,
   "metadata": {
    "slideshow": {
     "slide_type": "subslide"
    }
   },
   "outputs": [],
   "source": [
    "from numpy import random\n",
    "\n",
    "def uniform_0_1_rv():\n",
    "    return [random.rand(), 1]"
   ]
  },
  {
   "cell_type": "markdown",
   "metadata": {
    "slideshow": {
     "slide_type": "fragment"
    }
   },
   "source": [
    "This one returns two numbers, one of them is even random!\n",
    "\n",
    "Let's do another:"
   ]
  },
  {
   "cell_type": "code",
   "execution_count": 4,
   "metadata": {
    "slideshow": {
     "slide_type": "subslide"
    }
   },
   "outputs": [],
   "source": [
    "a_dependency = 3\n",
    "\n",
    "def multiplied_by_uniform_0_1_rv():\n",
    "    return a_dependency * random.rand()"
   ]
  },
  {
   "cell_type": "markdown",
   "metadata": {
    "slideshow": {
     "slide_type": "fragment"
    }
   },
   "source": [
    "Here is another example of a random variable. This guy depends on some external state. We can call this a conditional random variable (don't worry, we won't do too much with these guys).\n",
    "\n",
    "Finally, let me show you what is not a r.v.:"
   ]
  },
  {
   "cell_type": "code",
   "execution_count": 5,
   "metadata": {
    "slideshow": {
     "slide_type": "subslide"
    }
   },
   "outputs": [],
   "source": [
    "def not_a_rv():\n",
    "    return 'yellow'"
   ]
  },
  {
   "cell_type": "markdown",
   "metadata": {
    "slideshow": {
     "slide_type": "fragment"
    }
   },
   "source": [
    "This is not a random variable. Why? Because it does not return a number. Simple!\n",
    "\n"
   ]
  },
  {
   "cell_type": "markdown",
   "metadata": {
    "slideshow": {
     "slide_type": "slide"
    }
   },
   "source": [
    "## Why do we care about r.v.?\n",
    "\n",
    "Well first, remember the assumption we indroduced above, that our data come from IID samples of a r.v. (remember we will cover IID in another lesson). And that assumption will be the key to understanding data that we have not yet seen! The second reason r.v. can be so important will be covered in the next lesson (we can use them to simulate reality). \n",
    "\n"
   ]
  },
  {
   "cell_type": "markdown",
   "metadata": {
    "slideshow": {
     "slide_type": "slide"
    }
   },
   "source": [
    "### What is a sample\n",
    "\n",
    "The last thing that we will explore today is: what is a sample?\n",
    "\n",
    "Again, this one is pretty simple. A sample is what you get when you call a random variable. Multiple samples are what you get when you call it multiple times. So for example, below is how you would get 5 samples from a random variable:"
   ]
  },
  {
   "cell_type": "code",
   "execution_count": 6,
   "metadata": {
    "slideshow": {
     "slide_type": "subslide"
    }
   },
   "outputs": [
    {
     "data": {
      "text/plain": [
       "[[0.39637233238549774, 1],\n",
       " [0.8928438120555766, 1],\n",
       " [0.2388533971218606, 1],\n",
       " [0.3126524578249953, 1],\n",
       " [0.7672081153822906, 1]]"
      ]
     },
     "execution_count": 6,
     "metadata": {},
     "output_type": "execute_result"
    }
   ],
   "source": [
    "samples = [uniform_0_1_rv() for _ in range(5)]\n",
    "\n",
    "samples"
   ]
  },
  {
   "cell_type": "markdown",
   "metadata": {
    "slideshow": {
     "slide_type": "fragment"
    }
   },
   "source": [
    "So each sample, for us will be a single data point. And notice if the original r.v. spits out multiple numbers, then our data point has multiple dimensions/features. This gives us the rows (samples) and the columns (number of numbers from a r.v.) in our data. \n",
    "\n"
   ]
  },
  {
   "cell_type": "markdown",
   "metadata": {
    "slideshow": {
     "slide_type": "subslide"
    }
   },
   "source": [
    "### No more randomness\n",
    "\n",
    "Notice that as soon as we sample the r.v., there is no longer any randomness! Those numbers are now set in stone. They are data points we have seen and we can't unsee them. \n",
    "\n",
    "Just think of asking somebody how old they are. Before you ask it could be anything! But after, it is definitely what they said it is (plus 5 or so ;). "
   ]
  },
  {
   "cell_type": "markdown",
   "metadata": {
    "slideshow": {
     "slide_type": "slide"
    }
   },
   "source": [
    "## What we have learned\n",
    "\n",
    "Today we learned why assumptions are important. We learned what our next assumption is, but not what it means and why it's useful. We learned what a random variable is and what samples are.\n",
    "\n",
    "Next time we will explore random variables a bit more by constructing a few random variables simulating real life enviornment. We will then explore what the distribution of a random variable looks like, as well as how we would get its mean and standard deviation (summary statistics)."
   ]
  },
  {
   "cell_type": "markdown",
   "metadata": {
    "slideshow": {
     "slide_type": "slide"
    }
   },
   "source": [
    "# Learning objectives\n",
    "\n",
    "Today we are going to add another assumption to our small graph:\n",
    "\n",
    "* IID samples from a r.v. X\n",
    "\n",
    "And we are going to learn about what sampling and r.v. (random variables) are. Though we are going to have to wait until next lesson to see them in use."
   ]
  },
  {
   "cell_type": "markdown",
   "metadata": {
    "collapsed": true,
    "slideshow": {
     "slide_type": "slide"
    }
   },
   "source": [
    "## Comprehension questions\n",
    "\n",
    "1. What is the purpose of data science?\n",
    "1. Why can’t you have all the data?\n",
    "1. Why is it important to know what a r.v. is?\n",
    "1. How many times do we need to sample a single r.v., if we want a dataset that has 20 rows and 5 columns?"
   ]
  },
  {
   "cell_type": "code",
   "execution_count": null,
   "metadata": {},
   "outputs": [],
   "source": []
  }
 ],
 "metadata": {
  "celltoolbar": "Slideshow",
  "kernelspec": {
   "display_name": "Python 2",
   "language": "python",
   "name": "python2"
  },
  "language_info": {
   "codemirror_mode": {
    "name": "ipython",
    "version": 2
   },
   "file_extension": ".py",
   "mimetype": "text/x-python",
   "name": "python",
   "nbconvert_exporter": "python",
   "pygments_lexer": "ipython2",
   "version": "2.7.13"
  }
 },
 "nbformat": 4,
 "nbformat_minor": 2
}
