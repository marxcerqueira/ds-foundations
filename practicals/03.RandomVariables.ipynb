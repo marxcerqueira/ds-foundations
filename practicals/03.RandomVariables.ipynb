{
 "cells": [
  {
   "cell_type": "markdown",
   "metadata": {
    "slideshow": {
     "slide_type": "slide"
    }
   },
   "source": [
    "## Learning Objectives\n",
    "\n",
    "We will learn how to make a random variable from a real world situation. We also will learn how to use random varibles in simulation (but we will see more on this in foundations 4)"
   ]
  },
  {
   "cell_type": "markdown",
   "metadata": {
    "slideshow": {
     "slide_type": "slide"
    }
   },
   "source": [
    "## Step away from the Whiteboard\n",
    "\n",
    "This part is much easier, now that we have done the hard foundational stuff, I wanted to take a small lesson and teach you how to make a random variable. So let's get started."
   ]
  },
  {
   "cell_type": "markdown",
   "metadata": {
    "slideshow": {
     "slide_type": "fragment"
    }
   },
   "source": [
    "To start off with let's make a random variable that represents drawing a card from a deck, let's say queens. The situation will be: we shuffle a deck of 52 cards and draw one off the top and we will be happy if we draw a queen. So let's make this guy:"
   ]
  },
  {
   "cell_type": "code",
   "execution_count": 13,
   "metadata": {
    "slideshow": {
     "slide_type": "subslide"
    }
   },
   "outputs": [],
   "source": [
    "import numpy as np\n",
    "\n",
    "def queens():\n",
    "    # queens are the 40th to the 44th cards in a deck\n",
    "    # so first let's simulate drawing a card from the deck:\n",
    "    card_number = np.random.randint(1,53)\n",
    "    \n",
    "    # and if the card number is such that it is the queen's number\n",
    "    # we will return: 'Got a Queen!\"\n",
    "    # otherwise we will return: 'Not a Queen...\"\n",
    "    if card_number >= 40 and card_number < 44:\n",
    "        return 'Got a Queen!'\n",
    "    else:\n",
    "        return 'Not a Queen!'"
   ]
  },
  {
   "cell_type": "markdown",
   "metadata": {
    "slideshow": {
     "slide_type": "subslide"
    }
   },
   "source": [
    "Done! We can sample from the above by calling it:"
   ]
  },
  {
   "cell_type": "code",
   "execution_count": 16,
   "metadata": {
    "slideshow": {
     "slide_type": "fragment"
    }
   },
   "outputs": [
    {
     "data": {
      "text/plain": [
       "'Not a Queen!'"
      ]
     },
     "execution_count": 16,
     "metadata": {},
     "output_type": "execute_result"
    }
   ],
   "source": [
    "queens()"
   ]
  },
  {
   "cell_type": "code",
   "execution_count": 17,
   "metadata": {
    "slideshow": {
     "slide_type": "fragment"
    }
   },
   "outputs": [
    {
     "data": {
      "text/plain": [
       "'Not a Queen!'"
      ]
     },
     "execution_count": 17,
     "metadata": {},
     "output_type": "execute_result"
    }
   ],
   "source": [
    "queens()"
   ]
  },
  {
   "cell_type": "markdown",
   "metadata": {
    "slideshow": {
     "slide_type": "subslide"
    }
   },
   "source": [
    "But is this a random variable? Not quite. A random variable can only return numbers, so one easy way of transforming the above into a number is a 1 for success and a 0 for no queen:"
   ]
  },
  {
   "cell_type": "code",
   "execution_count": 18,
   "metadata": {
    "collapsed": true,
    "slideshow": {
     "slide_type": "subslide"
    }
   },
   "outputs": [],
   "source": [
    "import numpy as np\n",
    "\n",
    "def queens_rv():\n",
    "    card_number = np.random.randint(1,53)\n",
    "    if card_number >= 40 and card_number < 44:\n",
    "        return 1\n",
    "    else:\n",
    "        return 0"
   ]
  },
  {
   "cell_type": "code",
   "execution_count": 19,
   "metadata": {
    "slideshow": {
     "slide_type": "fragment"
    }
   },
   "outputs": [
    {
     "data": {
      "text/plain": [
       "[0, 1, 0, 0, 0, 0, 1, 0, 0, 0, 0, 0]"
      ]
     },
     "execution_count": 19,
     "metadata": {},
     "output_type": "execute_result"
    }
   ],
   "source": [
    "[queens_rv() for _ in range(12)]"
   ]
  },
  {
   "cell_type": "markdown",
   "metadata": {
    "slideshow": {
     "slide_type": "slide"
    }
   },
   "source": [
    "## Not so useful...\n",
    "\n",
    "Well the above is not super useful right? Perhaps if you are playing a game and need to do this type of action a thousand times, then yes it might be useful, but outside of games making a r.v. seems pretty useless right?\n",
    "\n",
    "Well let's try a more useful example.\n",
    "\n",
    "Let's say you were worked on a sales team. Let's say that each year your team reaches out to 500 customers and that you make a sale to that customer 15% of the time. Let's do one more thing here. Let's say you have two products: an expensive one that costs \\$1,000K and a cheap one that costs \\$5K. And let's say that 1% of your sales are expensive and the rest cheap. Your boss then asks you to project your earnings for next year. What do you do?\n",
    "\n",
    "Well this time we will cover the hard part, that is transforming your current situation into a random variable, that way you can take some samples and get a good sense of what your sales might be. So let's make this a r.v."
   ]
  },
  {
   "cell_type": "code",
   "execution_count": 26,
   "metadata": {
    "collapsed": true,
    "slideshow": {
     "slide_type": "subslide"
    }
   },
   "outputs": [],
   "source": [
    "def sales_rv():\n",
    "    sales = 0\n",
    "    # 500 customers\n",
    "    for _ in range(500):\n",
    "        # 15% chance of success\n",
    "        if np.random.rand() < .15:\n",
    "            # 10% chance of a big sale\n",
    "            if np.random.rand() < .01:\n",
    "                sales += 1000\n",
    "            else:\n",
    "                sales += 5\n",
    "    return sales"
   ]
  },
  {
   "cell_type": "code",
   "execution_count": 27,
   "metadata": {
    "slideshow": {
     "slide_type": "subslide"
    }
   },
   "outputs": [
    {
     "data": {
      "text/plain": [
       "1455"
      ]
     },
     "execution_count": 27,
     "metadata": {},
     "output_type": "execute_result"
    }
   ],
   "source": [
    "sales_rv()"
   ]
  },
  {
   "cell_type": "code",
   "execution_count": 28,
   "metadata": {
    "slideshow": {
     "slide_type": "fragment"
    }
   },
   "outputs": [
    {
     "data": {
      "text/plain": [
       "365"
      ]
     },
     "execution_count": 28,
     "metadata": {},
     "output_type": "execute_result"
    }
   ],
   "source": [
    "sales_rv()"
   ]
  },
  {
   "cell_type": "markdown",
   "metadata": {
    "slideshow": {
     "slide_type": "slide"
    }
   },
   "source": [
    "## What is missing\n",
    "\n",
    "Well you may now be thinking: this is great! I can totally do sales forecasting now, but which sample do I use? If only there were other ways to extract information from my random variable. I don't get to see the distribution, or ask what the mean is, or anything like what we were doing on the previous data. If only we could...\n",
    "\n",
    "Well all I'll say is wait till next time."
   ]
  },
  {
   "cell_type": "markdown",
   "metadata": {
    "collapsed": true,
    "slideshow": {
     "slide_type": "slide"
    }
   },
   "source": [
    "## Learning Objectives\n",
    "\n",
    "We will learn how to make a random variable from a real world situation. We also will learn how to use random varibles in simulation (but we will see more on this in foundations 4)"
   ]
  },
  {
   "cell_type": "markdown",
   "metadata": {
    "slideshow": {
     "slide_type": "slide"
    }
   },
   "source": [
    "## Comprehension Questions\n",
    "\n",
    "1.\tHow do you make a random variable?\n",
    "2.\tWhy is it useful to make a random variable?\n",
    "3.\tAre there any problems with simulating future sales with random variables?\n",
    "4.\tHow would you make a random variable that could help you determine how many jobs you should apply for?\n",
    "5.\tHow would you use a random variable to determine the amount you should pay for a car?\n",
    "6.\tWhy are simulations a good/bad tool for decision making?\n"
   ]
  },
  {
   "cell_type": "code",
   "execution_count": null,
   "metadata": {},
   "outputs": [],
   "source": []
  }
 ],
 "metadata": {
  "celltoolbar": "Slideshow",
  "kernelspec": {
   "display_name": "Python 2",
   "language": "python",
   "name": "python2"
  },
  "language_info": {
   "codemirror_mode": {
    "name": "ipython",
    "version": 2
   },
   "file_extension": ".py",
   "mimetype": "text/x-python",
   "name": "python",
   "nbconvert_exporter": "python",
   "pygments_lexer": "ipython2",
   "version": "2.7.13"
  }
 },
 "nbformat": 4,
 "nbformat_minor": 2
}
