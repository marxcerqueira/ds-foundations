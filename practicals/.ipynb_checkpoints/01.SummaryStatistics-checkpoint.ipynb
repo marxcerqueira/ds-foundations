{
 "cells": [
  {
   "cell_type": "markdown",
   "metadata": {
    "slideshow": {
     "slide_type": "slide"
    }
   },
   "source": [
    "# Learning Objectives\n",
    "\n",
    "Today we learn how to clean real data and use summary statistics to answer real world questions about the dataset"
   ]
  },
  {
   "cell_type": "markdown",
   "metadata": {
    "slideshow": {
     "slide_type": "slide"
    }
   },
   "source": [
    "## Practicals\n",
    "\n",
    "This is a series that can be watched to reinforce the material of data science foundations, and while I will try to make it as stand alone as possible, it will heavily lean on the foundations material.\n",
    "\n",
    "The point of these lectures will be to dive into how to use the knowledge we gained during data science fundamentals. "
   ]
  },
  {
   "cell_type": "markdown",
   "metadata": {
    "slideshow": {
     "slide_type": "slide"
    }
   },
   "source": [
    "## What we know so far\n",
    "\n",
    "As always we will start off by checking out our assumptions. In the data science foundations we will discuss why we need these assumptions and what we can use them for in theory, but here we will use them in practice.\n",
    "\n",
    "The assumptions that we begin with are simply: we have data."
   ]
  },
  {
   "cell_type": "code",
   "execution_count": 7,
   "metadata": {
    "slideshow": {
     "slide_type": "fragment"
    }
   },
   "outputs": [
    {
     "data": {
      "image/png": "[encoded data removed]",
      "text/plain": [
       "<IPython.core.display.Image object>"
      ]
     },
     "execution_count": 7,
     "metadata": {},
     "output_type": "execute_result"
    }
   ],
   "source": [
    "import networkx as nx\n",
    "from nxpd import draw\n",
    "from nxpd import nxpdParams\n",
    "nxpdParams['show'] = 'ipynb'\n",
    "\n",
    "G = nx.DiGraph()\n",
    "G.add_node('Inputs (x_1, x_2, ..., x_n)')\n",
    "draw(G)"
   ]
  },
  {
   "cell_type": "markdown",
   "metadata": {
    "slideshow": {
     "slide_type": "slide"
    }
   },
   "source": [
    "## Our data\n",
    "\n",
    "The data that we will be looking at throughout this series will be the billionaires dataset ([full details](http://www.iie.com/publications/interstitial.cfm?ResearchID=2917))\n",
    "\n",
    "Researchers have compiled a multi-decade database of the super-rich. Building off the Forbes World's Billionaires lists from 1996-2014, scholars at Peterson Institute for International Economics have added a couple dozen more variables about each billionaire - including whether they were self-made or inherited their wealth.\n",
    "\n",
    "While we could focus on more than one data set and have quite some fun doing so, we will focus on just one to drill down instead on the methodology and the practice of data science. So let's begin by looking at our data."
   ]
  },
  {
   "cell_type": "code",
   "execution_count": 8,
   "metadata": {
    "slideshow": {
     "slide_type": "slide"
    }
   },
   "outputs": [
    {
     "name": "stdout",
     "output_type": "stream",
     "text": [
      "<class 'pandas.core.frame.DataFrame'>\n",
      "RangeIndex: 2614 entries, 0 to 2613\n",
      "Data columns (total 22 columns):\n",
      "age                  2614 non-null int64\n",
      "category             2613 non-null object\n",
      "citizenship          2614 non-null object\n",
      "company.name         2576 non-null object\n",
      "company.type         2578 non-null object\n",
      "country code         2614 non-null object\n",
      "founded              2614 non-null int64\n",
      "from emerging        2614 non-null bool\n",
      "gdp                  2614 non-null float64\n",
      "gender               2580 non-null object\n",
      "industry             2613 non-null object\n",
      "inherited            2614 non-null bool\n",
      "name                 2614 non-null object\n",
      "rank                 2614 non-null int64\n",
      "region               2614 non-null object\n",
      "relationship         2568 non-null object\n",
      "sector               2591 non-null object\n",
      "was founder          2614 non-null bool\n",
      "was political        2614 non-null bool\n",
      "wealth.type          2592 non-null object\n",
      "worth in billions    2614 non-null float64\n",
      "year                 2614 non-null int64\n",
      "dtypes: bool(4), float64(2), int64(4), object(12)\n",
      "memory usage: 377.9+ KB\n"
     ]
    }
   ],
   "source": [
    "import pandas as pd\n",
    "\n",
    "# Pandas has many different wrappers to read data\n",
    "# But read_csv tends to be the most commonly used one\n",
    "df = pd.read_csv('../data/billionaires.csv')\n",
    "\n",
    "# The first thing I always do it do .info()\n",
    "df.info()"
   ]
  },
  {
   "cell_type": "markdown",
   "metadata": {
    "slideshow": {
     "slide_type": "fragment"
    }
   },
   "source": [
    "So here we get a ton of information. We have a data set with 22 columns and up to 2614 rows. Notice that some columns don't have 2614 rows filled rows and instead have some null rows. In addition we can get the types of the rows."
   ]
  },
  {
   "cell_type": "markdown",
   "metadata": {
    "slideshow": {
     "slide_type": "slide"
    }
   },
   "source": [
    "## Quantitative and Qualitative\n",
    "\n",
    "We can see from above which columns are quantitative and qualitative. A good rule of thumb is that any float is a quantitative column and the rest are qualitative.\n",
    "\n",
    "That being said it is good to inspect the columns and ask the question: can I average this. A quick visual inspection using `.head()` can help:"
   ]
  },
  {
   "cell_type": "code",
   "execution_count": 10,
   "metadata": {
    "slideshow": {
     "slide_type": "fragment"
    }
   },
   "outputs": [
    {
     "data": {
      "text/html": [
       "<div>\n",
       "<style>\n",
       "    .dataframe thead tr:only-child th {\n",
       "        text-align: right;\n",
       "    }\n",
       "\n",
       "    .dataframe thead th {\n",
       "        text-align: left;\n",
       "    }\n",
       "\n",
       "    .dataframe tbody tr th {\n",
       "        vertical-align: top;\n",
       "    }\n",
       "</style>\n",
       "<table border=\"1\" class=\"dataframe\">\n",
       "  <thead>\n",
       "    <tr style=\"text-align: right;\">\n",
       "      <th></th>\n",
       "      <th>age</th>\n",
       "      <th>category</th>\n",
       "      <th>citizenship</th>\n",
       "      <th>company.name</th>\n",
       "      <th>company.type</th>\n",
       "      <th>country code</th>\n",
       "      <th>founded</th>\n",
       "      <th>from emerging</th>\n",
       "      <th>gdp</th>\n",
       "      <th>gender</th>\n",
       "      <th>...</th>\n",
       "      <th>name</th>\n",
       "      <th>rank</th>\n",
       "      <th>region</th>\n",
       "      <th>relationship</th>\n",
       "      <th>sector</th>\n",
       "      <th>was founder</th>\n",
       "      <th>was political</th>\n",
       "      <th>wealth.type</th>\n",
       "      <th>worth in billions</th>\n",
       "      <th>year</th>\n",
       "    </tr>\n",
       "  </thead>\n",
       "  <tbody>\n",
       "    <tr>\n",
       "      <th>0</th>\n",
       "      <td>-1</td>\n",
       "      <td>Financial</td>\n",
       "      <td>Saudi Arabia</td>\n",
       "      <td>Rolaco Trading and Contracting Company</td>\n",
       "      <td>new</td>\n",
       "      <td>SAU</td>\n",
       "      <td>1968</td>\n",
       "      <td>True</td>\n",
       "      <td>1.580000e+11</td>\n",
       "      <td>male</td>\n",
       "      <td>...</td>\n",
       "      <td>Abdul Aziz Al-Sulaiman</td>\n",
       "      <td>404</td>\n",
       "      <td>Middle East/North Africa</td>\n",
       "      <td>founder</td>\n",
       "      <td>construction</td>\n",
       "      <td>True</td>\n",
       "      <td>False</td>\n",
       "      <td>self-made finance</td>\n",
       "      <td>1.0</td>\n",
       "      <td>1996</td>\n",
       "    </tr>\n",
       "    <tr>\n",
       "      <th>1</th>\n",
       "      <td>34</td>\n",
       "      <td>Financial</td>\n",
       "      <td>United States</td>\n",
       "      <td>Fidelity Investments</td>\n",
       "      <td>new</td>\n",
       "      <td>USA</td>\n",
       "      <td>1946</td>\n",
       "      <td>True</td>\n",
       "      <td>8.100000e+12</td>\n",
       "      <td>female</td>\n",
       "      <td>...</td>\n",
       "      <td>Abigail Johnson</td>\n",
       "      <td>145</td>\n",
       "      <td>North America</td>\n",
       "      <td>relation</td>\n",
       "      <td>investment banking</td>\n",
       "      <td>True</td>\n",
       "      <td>False</td>\n",
       "      <td>inherited</td>\n",
       "      <td>2.5</td>\n",
       "      <td>1996</td>\n",
       "    </tr>\n",
       "  </tbody>\n",
       "</table>\n",
       "<p>2 rows × 22 columns</p>\n",
       "</div>"
      ],
      "text/plain": [
       "   age   category    citizenship                            company.name  \\\n",
       "0   -1  Financial   Saudi Arabia  Rolaco Trading and Contracting Company   \n",
       "1   34  Financial  United States                    Fidelity Investments   \n",
       "\n",
       "  company.type country code  founded  from emerging           gdp  gender  \\\n",
       "0          new          SAU     1968           True  1.580000e+11    male   \n",
       "1          new          USA     1946           True  8.100000e+12  female   \n",
       "\n",
       "   ...                     name  rank                    region  relationship  \\\n",
       "0  ...   Abdul Aziz Al-Sulaiman   404  Middle East/North Africa       founder   \n",
       "1  ...          Abigail Johnson   145             North America      relation   \n",
       "\n",
       "               sector was founder was political        wealth.type  \\\n",
       "0        construction        True         False  self-made finance   \n",
       "1  investment banking        True         False          inherited   \n",
       "\n",
       "   worth in billions  year  \n",
       "0                1.0  1996  \n",
       "1                2.5  1996  \n",
       "\n",
       "[2 rows x 22 columns]"
      ]
     },
     "execution_count": 10,
     "metadata": {},
     "output_type": "execute_result"
    }
   ],
   "source": [
    "df.head(2)"
   ]
  },
  {
   "cell_type": "markdown",
   "metadata": {
    "slideshow": {
     "slide_type": "slide"
    }
   },
   "source": [
    "## Describing qualitative features\n",
    "\n",
    "We can't do too much to describe qualitative features, but one thing that we can do is to count and display the unique entries of these columns. For example, you could be interested in how most billionaires made their fortunes, the below command can tease this out (this will even give us the mode):"
   ]
  },
  {
   "cell_type": "code",
   "execution_count": 13,
   "metadata": {
    "slideshow": {
     "slide_type": "subslide"
    }
   },
   "outputs": [
    {
     "data": {
      "text/plain": [
       "wealth.type\n",
       "executive                   188\n",
       "founder non-finance         713\n",
       "inherited                   950\n",
       "privatized and resources    235\n",
       "self-made finance           499\n",
       "Name: sector, dtype: int64"
      ]
     },
     "execution_count": 13,
     "metadata": {},
     "output_type": "execute_result"
    }
   ],
   "source": [
    "df.groupby('wealth.type').sector.count()"
   ]
  },
  {
   "cell_type": "markdown",
   "metadata": {
    "slideshow": {
     "slide_type": "subslide"
    }
   },
   "source": [
    "For an ordered qualitative column (like year) we can even take the median or the max and min:"
   ]
  },
  {
   "cell_type": "code",
   "execution_count": 14,
   "metadata": {
    "slideshow": {
     "slide_type": "subslide"
    }
   },
   "outputs": [
    {
     "name": "stdout",
     "output_type": "stream",
     "text": [
      "1996\n",
      "2014.0\n",
      "2014\n"
     ]
    }
   ],
   "source": [
    "print df.year.min()\n",
    "print df.year.median()\n",
    "print df.year.max()"
   ]
  },
  {
   "cell_type": "markdown",
   "metadata": {
    "slideshow": {
     "slide_type": "slide"
    }
   },
   "source": [
    "## Describing quantitative features\n",
    "\n",
    "Now when it comes to describing quantitative features we have much more we can do, but generally it is always good to start off with a `.describe()` command:"
   ]
  },
  {
   "cell_type": "code",
   "execution_count": 15,
   "metadata": {
    "slideshow": {
     "slide_type": "subslide"
    }
   },
   "outputs": [
    {
     "data": {
      "text/html": [
       "<div>\n",
       "<style>\n",
       "    .dataframe thead tr:only-child th {\n",
       "        text-align: right;\n",
       "    }\n",
       "\n",
       "    .dataframe thead th {\n",
       "        text-align: left;\n",
       "    }\n",
       "\n",
       "    .dataframe tbody tr th {\n",
       "        vertical-align: top;\n",
       "    }\n",
       "</style>\n",
       "<table border=\"1\" class=\"dataframe\">\n",
       "  <thead>\n",
       "    <tr style=\"text-align: right;\">\n",
       "      <th></th>\n",
       "      <th>age</th>\n",
       "      <th>founded</th>\n",
       "      <th>gdp</th>\n",
       "      <th>rank</th>\n",
       "      <th>worth in billions</th>\n",
       "      <th>year</th>\n",
       "    </tr>\n",
       "  </thead>\n",
       "  <tbody>\n",
       "    <tr>\n",
       "      <th>count</th>\n",
       "      <td>2614.000000</td>\n",
       "      <td>2614.000000</td>\n",
       "      <td>2.614000e+03</td>\n",
       "      <td>2614.000000</td>\n",
       "      <td>2614.000000</td>\n",
       "      <td>2614.000000</td>\n",
       "    </tr>\n",
       "    <tr>\n",
       "      <th>mean</th>\n",
       "      <td>53.212701</td>\n",
       "      <td>1924.711936</td>\n",
       "      <td>1.769103e+12</td>\n",
       "      <td>599.672533</td>\n",
       "      <td>3.531943</td>\n",
       "      <td>2008.411630</td>\n",
       "    </tr>\n",
       "    <tr>\n",
       "      <th>std</th>\n",
       "      <td>25.591642</td>\n",
       "      <td>243.776546</td>\n",
       "      <td>3.547083e+12</td>\n",
       "      <td>467.885695</td>\n",
       "      <td>5.088813</td>\n",
       "      <td>7.483598</td>\n",
       "    </tr>\n",
       "    <tr>\n",
       "      <th>min</th>\n",
       "      <td>-1.000000</td>\n",
       "      <td>0.000000</td>\n",
       "      <td>0.000000e+00</td>\n",
       "      <td>1.000000</td>\n",
       "      <td>1.000000</td>\n",
       "      <td>1996.000000</td>\n",
       "    </tr>\n",
       "    <tr>\n",
       "      <th>25%</th>\n",
       "      <td>47.000000</td>\n",
       "      <td>1936.000000</td>\n",
       "      <td>0.000000e+00</td>\n",
       "      <td>215.000000</td>\n",
       "      <td>1.400000</td>\n",
       "      <td>2001.000000</td>\n",
       "    </tr>\n",
       "    <tr>\n",
       "      <th>50%</th>\n",
       "      <td>59.000000</td>\n",
       "      <td>1963.000000</td>\n",
       "      <td>0.000000e+00</td>\n",
       "      <td>430.000000</td>\n",
       "      <td>2.000000</td>\n",
       "      <td>2014.000000</td>\n",
       "    </tr>\n",
       "    <tr>\n",
       "      <th>75%</th>\n",
       "      <td>70.000000</td>\n",
       "      <td>1985.000000</td>\n",
       "      <td>7.250000e+11</td>\n",
       "      <td>988.000000</td>\n",
       "      <td>3.500000</td>\n",
       "      <td>2014.000000</td>\n",
       "    </tr>\n",
       "    <tr>\n",
       "      <th>max</th>\n",
       "      <td>98.000000</td>\n",
       "      <td>2012.000000</td>\n",
       "      <td>1.060000e+13</td>\n",
       "      <td>1565.000000</td>\n",
       "      <td>76.000000</td>\n",
       "      <td>2014.000000</td>\n",
       "    </tr>\n",
       "  </tbody>\n",
       "</table>\n",
       "</div>"
      ],
      "text/plain": [
       "               age      founded           gdp         rank  worth in billions  \\\n",
       "count  2614.000000  2614.000000  2.614000e+03  2614.000000        2614.000000   \n",
       "mean     53.212701  1924.711936  1.769103e+12   599.672533           3.531943   \n",
       "std      25.591642   243.776546  3.547083e+12   467.885695           5.088813   \n",
       "min      -1.000000     0.000000  0.000000e+00     1.000000           1.000000   \n",
       "25%      47.000000  1936.000000  0.000000e+00   215.000000           1.400000   \n",
       "50%      59.000000  1963.000000  0.000000e+00   430.000000           2.000000   \n",
       "75%      70.000000  1985.000000  7.250000e+11   988.000000           3.500000   \n",
       "max      98.000000  2012.000000  1.060000e+13  1565.000000          76.000000   \n",
       "\n",
       "              year  \n",
       "count  2614.000000  \n",
       "mean   2008.411630  \n",
       "std       7.483598  \n",
       "min    1996.000000  \n",
       "25%    2001.000000  \n",
       "50%    2014.000000  \n",
       "75%    2014.000000  \n",
       "max    2014.000000  "
      ]
     },
     "execution_count": 15,
     "metadata": {},
     "output_type": "execute_result"
    }
   ],
   "source": [
    "df.describe()"
   ]
  },
  {
   "cell_type": "markdown",
   "metadata": {
    "slideshow": {
     "slide_type": "subslide"
    }
   },
   "source": [
    "This will take all of the numeric features (even those that are not actually quantitative like rank) and calculate some very relevant summary statistics. We get to see the worth in billions, its max, min, percentiles, mean and standard deviation. And with this information we can get a good understanding of how our data is distributed.\n",
    "\n",
    "We also get to see parts of the data we should mung, specifically age that has values less than 1 (thus the mean age biased). Or founded or gdp that has values of 0. \n",
    "\n",
    "So let's clean the data and do this one more time."
   ]
  },
  {
   "cell_type": "code",
   "execution_count": 37,
   "metadata": {
    "slideshow": {
     "slide_type": "subslide"
    }
   },
   "outputs": [
    {
     "data": {
      "text/html": [
       "<div>\n",
       "<style>\n",
       "    .dataframe thead tr:only-child th {\n",
       "        text-align: right;\n",
       "    }\n",
       "\n",
       "    .dataframe thead th {\n",
       "        text-align: left;\n",
       "    }\n",
       "\n",
       "    .dataframe tbody tr th {\n",
       "        vertical-align: top;\n",
       "    }\n",
       "</style>\n",
       "<table border=\"1\" class=\"dataframe\">\n",
       "  <thead>\n",
       "    <tr style=\"text-align: right;\">\n",
       "      <th></th>\n",
       "      <th>age</th>\n",
       "      <th>founded</th>\n",
       "      <th>gdp</th>\n",
       "      <th>rank</th>\n",
       "      <th>worth in billions</th>\n",
       "      <th>year</th>\n",
       "    </tr>\n",
       "  </thead>\n",
       "  <tbody>\n",
       "    <tr>\n",
       "      <th>count</th>\n",
       "      <td>2229.000000</td>\n",
       "      <td>2574.000000</td>\n",
       "      <td>9.490000e+02</td>\n",
       "      <td>2614.000000</td>\n",
       "      <td>2614.000000</td>\n",
       "      <td>2614.000000</td>\n",
       "    </tr>\n",
       "    <tr>\n",
       "      <th>mean</th>\n",
       "      <td>62.576492</td>\n",
       "      <td>1954.621989</td>\n",
       "      <td>4.872956e+12</td>\n",
       "      <td>599.672533</td>\n",
       "      <td>3.531943</td>\n",
       "      <td>2008.411630</td>\n",
       "    </tr>\n",
       "    <tr>\n",
       "      <th>std</th>\n",
       "      <td>13.134715</td>\n",
       "      <td>43.189003</td>\n",
       "      <td>4.420257e+12</td>\n",
       "      <td>467.885695</td>\n",
       "      <td>5.088813</td>\n",
       "      <td>7.483598</td>\n",
       "    </tr>\n",
       "    <tr>\n",
       "      <th>min</th>\n",
       "      <td>12.000000</td>\n",
       "      <td>1610.000000</td>\n",
       "      <td>2.491801e+09</td>\n",
       "      <td>1.000000</td>\n",
       "      <td>1.000000</td>\n",
       "      <td>1996.000000</td>\n",
       "    </tr>\n",
       "    <tr>\n",
       "      <th>25%</th>\n",
       "      <td>53.000000</td>\n",
       "      <td>1938.250000</td>\n",
       "      <td>3.970000e+11</td>\n",
       "      <td>215.000000</td>\n",
       "      <td>1.400000</td>\n",
       "      <td>2001.000000</td>\n",
       "    </tr>\n",
       "    <tr>\n",
       "      <th>50%</th>\n",
       "      <td>62.000000</td>\n",
       "      <td>1963.000000</td>\n",
       "      <td>2.500000e+12</td>\n",
       "      <td>430.000000</td>\n",
       "      <td>2.000000</td>\n",
       "      <td>2014.000000</td>\n",
       "    </tr>\n",
       "    <tr>\n",
       "      <th>75%</th>\n",
       "      <td>72.000000</td>\n",
       "      <td>1985.000000</td>\n",
       "      <td>1.060000e+13</td>\n",
       "      <td>988.000000</td>\n",
       "      <td>3.500000</td>\n",
       "      <td>2014.000000</td>\n",
       "    </tr>\n",
       "    <tr>\n",
       "      <th>max</th>\n",
       "      <td>98.000000</td>\n",
       "      <td>2012.000000</td>\n",
       "      <td>1.060000e+13</td>\n",
       "      <td>1565.000000</td>\n",
       "      <td>76.000000</td>\n",
       "      <td>2014.000000</td>\n",
       "    </tr>\n",
       "  </tbody>\n",
       "</table>\n",
       "</div>"
      ],
      "text/plain": [
       "               age      founded           gdp         rank  worth in billions  \\\n",
       "count  2229.000000  2574.000000  9.490000e+02  2614.000000        2614.000000   \n",
       "mean     62.576492  1954.621989  4.872956e+12   599.672533           3.531943   \n",
       "std      13.134715    43.189003  4.420257e+12   467.885695           5.088813   \n",
       "min      12.000000  1610.000000  2.491801e+09     1.000000           1.000000   \n",
       "25%      53.000000  1938.250000  3.970000e+11   215.000000           1.400000   \n",
       "50%      62.000000  1963.000000  2.500000e+12   430.000000           2.000000   \n",
       "75%      72.000000  1985.000000  1.060000e+13   988.000000           3.500000   \n",
       "max      98.000000  2012.000000  1.060000e+13  1565.000000          76.000000   \n",
       "\n",
       "              year  \n",
       "count  2614.000000  \n",
       "mean   2008.411630  \n",
       "std       7.483598  \n",
       "min    1996.000000  \n",
       "25%    2001.000000  \n",
       "50%    2014.000000  \n",
       "75%    2014.000000  \n",
       "max    2014.000000  "
      ]
     },
     "execution_count": 37,
     "metadata": {},
     "output_type": "execute_result"
    }
   ],
   "source": [
    "import numpy as np\n",
    "\n",
    "df.age.replace(-1, np.NaN, inplace=True)\n",
    "df.founded.replace(0, np.NaN, inplace=True)\n",
    "df.gdp.replace(0, np.NaN, inplace=True)\n",
    "\n",
    "df.describe()"
   ]
  },
  {
   "cell_type": "markdown",
   "metadata": {
    "slideshow": {
     "slide_type": "subslide"
    }
   },
   "source": [
    "We now can see a much more reasonable series of numbers for gdp and founded min, and means. In addition notice how the average age jumped by 10 years! Without this cleaning the summary statistics would be highly inaccurate."
   ]
  },
  {
   "cell_type": "markdown",
   "metadata": {
    "slideshow": {
     "slide_type": "fragment"
    }
   },
   "source": [
    "Another way that we can check the quality of our data is the check out the number of unique entries in each column. Sometimes you may be surprised to see more than two values in what you thought was a binary column or fewer values than you might expect."
   ]
  },
  {
   "cell_type": "code",
   "execution_count": 42,
   "metadata": {
    "slideshow": {
     "slide_type": "subslide"
    }
   },
   "outputs": [
    {
     "data": {
      "text/plain": [
       "age                    73\n",
       "category                9\n",
       "citizenship            73\n",
       "company.name         1577\n",
       "company.type           18\n",
       "country code           74\n",
       "founded               177\n",
       "from emerging           1\n",
       "gdp                    80\n",
       "gender                  3\n",
       "industry               19\n",
       "inherited               1\n",
       "name                 2077\n",
       "rank                  468\n",
       "region                  8\n",
       "relationship           74\n",
       "sector                520\n",
       "was founder             1\n",
       "was political           2\n",
       "wealth.type             5\n",
       "worth in billions     183\n",
       "year                    3\n",
       "dtype: int64"
      ]
     },
     "execution_count": 42,
     "metadata": {},
     "output_type": "execute_result"
    }
   ],
   "source": [
    "df.nunique()"
   ]
  },
  {
   "cell_type": "markdown",
   "metadata": {
    "slideshow": {
     "slide_type": "subslide"
    }
   },
   "source": [
    "We actually see a number of surprises here. First, from emerging, inherited, and was founder are all incorrect. There is only one value in each and this carries very little information. Second we might see that there are only 3 years. The years here represent when we surveyed the data. Finally we might see other things, like the number of names is more than the number of companies showing that some people own the same company.\n",
    "\n",
    "Let's go ahead and delete the columns with only one unique value:"
   ]
  },
  {
   "cell_type": "code",
   "execution_count": 43,
   "metadata": {
    "collapsed": true,
    "slideshow": {
     "slide_type": "subslide"
    }
   },
   "outputs": [],
   "source": [
    "del df['was founder']\n",
    "del df['inherited']\n",
    "del df['from emerging']"
   ]
  },
  {
   "cell_type": "markdown",
   "metadata": {
    "slideshow": {
     "slide_type": "subslide"
    }
   },
   "source": [
    "Finally we can of course take more complex statistics like correlation with a single command:"
   ]
  },
  {
   "cell_type": "code",
   "execution_count": 38,
   "metadata": {
    "slideshow": {
     "slide_type": "fragment"
    }
   },
   "outputs": [
    {
     "data": {
      "text/html": [
       "<div>\n",
       "<style>\n",
       "    .dataframe thead tr:only-child th {\n",
       "        text-align: right;\n",
       "    }\n",
       "\n",
       "    .dataframe thead th {\n",
       "        text-align: left;\n",
       "    }\n",
       "\n",
       "    .dataframe tbody tr th {\n",
       "        vertical-align: top;\n",
       "    }\n",
       "</style>\n",
       "<table border=\"1\" class=\"dataframe\">\n",
       "  <thead>\n",
       "    <tr style=\"text-align: right;\">\n",
       "      <th></th>\n",
       "      <th>age</th>\n",
       "      <th>founded</th>\n",
       "      <th>gdp</th>\n",
       "      <th>rank</th>\n",
       "      <th>was political</th>\n",
       "      <th>worth in billions</th>\n",
       "      <th>year</th>\n",
       "    </tr>\n",
       "  </thead>\n",
       "  <tbody>\n",
       "    <tr>\n",
       "      <th>age</th>\n",
       "      <td>1.000000</td>\n",
       "      <td>-0.214851</td>\n",
       "      <td>0.023339</td>\n",
       "      <td>-0.064047</td>\n",
       "      <td>-0.081400</td>\n",
       "      <td>0.085858</td>\n",
       "      <td>0.099761</td>\n",
       "    </tr>\n",
       "    <tr>\n",
       "      <th>founded</th>\n",
       "      <td>-0.214851</td>\n",
       "      <td>1.000000</td>\n",
       "      <td>0.138432</td>\n",
       "      <td>0.243813</td>\n",
       "      <td>0.084932</td>\n",
       "      <td>-0.008584</td>\n",
       "      <td>0.279570</td>\n",
       "    </tr>\n",
       "    <tr>\n",
       "      <th>gdp</th>\n",
       "      <td>0.023339</td>\n",
       "      <td>0.138432</td>\n",
       "      <td>1.000000</td>\n",
       "      <td>0.097870</td>\n",
       "      <td>-0.161246</td>\n",
       "      <td>0.047724</td>\n",
       "      <td>0.261110</td>\n",
       "    </tr>\n",
       "    <tr>\n",
       "      <th>rank</th>\n",
       "      <td>-0.064047</td>\n",
       "      <td>0.243813</td>\n",
       "      <td>0.097870</td>\n",
       "      <td>1.000000</td>\n",
       "      <td>-0.021650</td>\n",
       "      <td>-0.407304</td>\n",
       "      <td>0.582301</td>\n",
       "    </tr>\n",
       "    <tr>\n",
       "      <th>was political</th>\n",
       "      <td>-0.081400</td>\n",
       "      <td>0.084932</td>\n",
       "      <td>-0.161246</td>\n",
       "      <td>-0.021650</td>\n",
       "      <td>1.000000</td>\n",
       "      <td>0.016266</td>\n",
       "      <td>0.030018</td>\n",
       "    </tr>\n",
       "    <tr>\n",
       "      <th>worth in billions</th>\n",
       "      <td>0.085858</td>\n",
       "      <td>-0.008584</td>\n",
       "      <td>0.047724</td>\n",
       "      <td>-0.407304</td>\n",
       "      <td>0.016266</td>\n",
       "      <td>1.000000</td>\n",
       "      <td>0.102822</td>\n",
       "    </tr>\n",
       "    <tr>\n",
       "      <th>year</th>\n",
       "      <td>0.099761</td>\n",
       "      <td>0.279570</td>\n",
       "      <td>0.261110</td>\n",
       "      <td>0.582301</td>\n",
       "      <td>0.030018</td>\n",
       "      <td>0.102822</td>\n",
       "      <td>1.000000</td>\n",
       "    </tr>\n",
       "  </tbody>\n",
       "</table>\n",
       "</div>"
      ],
      "text/plain": [
       "                        age   founded       gdp      rank  was political  \\\n",
       "age                1.000000 -0.214851  0.023339 -0.064047      -0.081400   \n",
       "founded           -0.214851  1.000000  0.138432  0.243813       0.084932   \n",
       "gdp                0.023339  0.138432  1.000000  0.097870      -0.161246   \n",
       "rank              -0.064047  0.243813  0.097870  1.000000      -0.021650   \n",
       "was political     -0.081400  0.084932 -0.161246 -0.021650       1.000000   \n",
       "worth in billions  0.085858 -0.008584  0.047724 -0.407304       0.016266   \n",
       "year               0.099761  0.279570  0.261110  0.582301       0.030018   \n",
       "\n",
       "                   worth in billions      year  \n",
       "age                         0.085858  0.099761  \n",
       "founded                    -0.008584  0.279570  \n",
       "gdp                         0.047724  0.261110  \n",
       "rank                       -0.407304  0.582301  \n",
       "was political               0.016266  0.030018  \n",
       "worth in billions           1.000000  0.102822  \n",
       "year                        0.102822  1.000000  "
      ]
     },
     "execution_count": 38,
     "metadata": {},
     "output_type": "execute_result"
    }
   ],
   "source": [
    "df.corr().dropna((0, 1), how='all')"
   ]
  },
  {
   "cell_type": "markdown",
   "metadata": {
    "slideshow": {
     "slide_type": "subslide"
    }
   },
   "source": [
    "In such a way we can see which columns relate and how they relate. Again, such measures should be done only after we clean the data.\n",
    "\n",
    "So notice that age is highly negatively correlated with when the company was founded. Older people founded longer ago, makes sense. "
   ]
  },
  {
   "cell_type": "markdown",
   "metadata": {
    "slideshow": {
     "slide_type": "slide"
    }
   },
   "source": [
    "## Next time\n",
    "\n",
    "So once again, we now have some interesting things to say about our billionaire's dataset and how that data is distributed. BUT, we cannot say anything yet about how the general or current billionaire data is distributed.\n",
    "\n",
    "Next time we will cover visualizations and how we can tease even more information out of this dataset."
   ]
  },
  {
   "cell_type": "markdown",
   "metadata": {
    "slideshow": {
     "slide_type": "slide"
    }
   },
   "source": [
    "# Learning Objectives\n",
    "\n",
    "Today we learn how to clean real data and use summary statistics to answer real world questions about the dataset"
   ]
  },
  {
   "cell_type": "markdown",
   "metadata": {
    "collapsed": true,
    "slideshow": {
     "slide_type": "slide"
    }
   },
   "source": [
    "## Comprehension Questions\n",
    "\n",
    "1.\tWhat is a null row?\n",
    "2.\tWhat does it mean to mung your data?\n",
    "3.\tWhat are common ways to mung your data?\n",
    "4.\tWhy is it important to mung your data?\n",
    "5.\tHow would you answer these questions:\n",
    "    1.\tWhat is the gender ratio like?\n",
    "    2.\tWhat is the best way to become a billionaire?\n",
    "    3.\tHow much money do billionaires lose/make each year?\n",
    "    4.\tWhat time period had the most billionaires?\n",
    "    5.\tAre billionaires that inherit their wealth richer than self made ones?\n"
   ]
  },
  {
   "cell_type": "code",
   "execution_count": null,
   "metadata": {},
   "outputs": [],
   "source": []
  }
 ],
 "metadata": {
  "celltoolbar": "Slideshow",
  "kernelspec": {
   "display_name": "Python 2",
   "language": "python",
   "name": "python2"
  },
  "language_info": {
   "codemirror_mode": {
    "name": "ipython",
    "version": 2
   },
   "file_extension": ".py",
   "mimetype": "text/x-python",
   "name": "python",
   "nbconvert_exporter": "python",
   "pygments_lexer": "ipython2",
   "version": "2.7.13"
  }
 },
 "nbformat": 4,
 "nbformat_minor": 2
}
