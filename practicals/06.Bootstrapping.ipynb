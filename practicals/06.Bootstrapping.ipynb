{
 "cells": [
  {
   "cell_type": "markdown",
   "metadata": {
    "collapsed": true,
    "slideshow": {
     "slide_type": "slide"
    }
   },
   "source": [
    "## Learning Objectives\n",
    "\n",
    "Today we apply bootstrapping to a real dataset, being very careful to elaborate on the assumptions we make in order to do so."
   ]
  },
  {
   "cell_type": "markdown",
   "metadata": {
    "slideshow": {
     "slide_type": "slide"
    }
   },
   "source": [
    "## A quick look at the assumptions\n",
    "\n",
    "Even though this is the practical version of the course, we should still be aware of the assumptions that allow us to take the actions below:"
   ]
  },
  {
   "cell_type": "code",
   "execution_count": 1,
   "metadata": {
    "slideshow": {
     "slide_type": "subslide"
    }
   },
   "outputs": [
    {
     "data": {
      "image/png": "[encoded data removed]",
      "text/plain": [
       "<IPython.core.display.Image object>"
      ]
     },
     "execution_count": 1,
     "metadata": {},
     "output_type": "execute_result"
    }
   ],
   "source": [
    "import networkx as nx\n",
    "from nxpd import draw\n",
    "from nxpd import nxpdParams\n",
    "nxpdParams['show'] = 'ipynb'\n",
    "\n",
    "G = nx.DiGraph()\n",
    "G.add_node('IID samples from a r.v. X')\n",
    "G.add_node('Inputs (x_1, x_2, ..., x_n)')\n",
    "G.add_edge('IID samples from a r.v. X', 'Inputs (x_1, x_2, ..., x_n)')\n",
    "draw(G)"
   ]
  },
  {
   "cell_type": "markdown",
   "metadata": {
    "slideshow": {
     "slide_type": "subslide"
    }
   },
   "source": [
    "So if we can be reasonably convinced that we got our data IID from a random variable, then we can go ahead and do the below. Again just as a quick admonition, if there are black swans in your data you cannot be sure that the below tools will work, but with this assumption let's go on:"
   ]
  },
  {
   "cell_type": "markdown",
   "metadata": {
    "slideshow": {
     "slide_type": "slide"
    }
   },
   "source": [
    "## The age of billionaires\n",
    "\n",
    "Let's say that you were interested in the age of billionaires (maybe you wanted to make a special billionaire insurance contract). And while you were interested to know what the population of billionaires was in 2014, you know that the billionaire dataset is only a sample of the billionaires out there and you are interested in what that distribution will be like in the future. How would you figure out what the median age of billionaires is in the current population?\n",
    "\n",
    "You could survey the population of the current billionaires, but that might be time consuming and expensive, so you choose to bootstrap.\n",
    "\n",
    "The first step in bootstrapping is to identify your sample:"
   ]
  },
  {
   "cell_type": "code",
   "execution_count": 2,
   "metadata": {
    "collapsed": true,
    "slideshow": {
     "slide_type": "subslide"
    }
   },
   "outputs": [],
   "source": [
    "import pandas as pd\n",
    "import numpy as np\n",
    "\n",
    "df = pd.read_csv('../data/billionaires.csv')\n",
    "\n",
    "del df['was founder']\n",
    "del df['inherited']\n",
    "del df['from emerging']\n",
    "\n",
    "df.age.replace(-1, np.NaN, inplace=True)\n",
    "df.founded.replace(0, np.NaN, inplace=True)\n",
    "df.gdp.replace(0, np.NaN, inplace=True)"
   ]
  },
  {
   "cell_type": "code",
   "execution_count": 13,
   "metadata": {
    "slideshow": {
     "slide_type": "subslide"
    }
   },
   "outputs": [
    {
     "data": {
      "text/plain": [
       "count    1590.000000\n",
       "mean       63.342138\n",
       "std        13.137743\n",
       "min        24.000000\n",
       "25%        53.000000\n",
       "50%        63.000000\n",
       "75%        73.000000\n",
       "max        98.000000\n",
       "Name: age, dtype: float64"
      ]
     },
     "execution_count": 13,
     "metadata": {},
     "output_type": "execute_result"
    }
   ],
   "source": [
    "df2014 = df[df.year == 2014]\n",
    "\n",
    "age_sample = df2014.age.dropna()\n",
    "\n",
    "age_sample.describe()"
   ]
  },
  {
   "cell_type": "markdown",
   "metadata": {
    "slideshow": {
     "slide_type": "subslide"
    }
   },
   "source": [
    "So our age sample will be all non-null ages from billionaires sampled in 2014. We have 1590 ages with the median around 63. Can we stop here?\n",
    "\n",
    "Not quite, while this median is a good estimate of the median of the population now (as long as we assume the median is stationary), we are curious how confident we are in this estimate. To figure that out we need to look at the distribution of possible sample medians we might get. But wait, to get that distribution, we would need to be able to take multiple samples from the population distribution!\n",
    "\n",
    "This is where the bootstrapping assumption comes in. We assume that the original sample is a good approximation of population distribution as long as we sample with replacement. \n",
    "\n",
    "That is the big assumption! As our original sample gets bigger and bigger, this becomes less of an assumption. \n",
    "\n",
    "The next step that we need to do is to get a lot of sample medians from from our 'population distribution' in order to view the distribution of possible samples medians. Remember that in order to view the distribution of a random variable we need to take infinite samples, so this is the second assumption:"
   ]
  },
  {
   "cell_type": "code",
   "execution_count": 17,
   "metadata": {
    "slideshow": {
     "slide_type": "subslide"
    }
   },
   "outputs": [
    {
     "data": {
      "text/plain": [
       "(10000,)"
      ]
     },
     "execution_count": 17,
     "metadata": {},
     "output_type": "execute_result"
    }
   ],
   "source": [
    "# generally taking 10k bootstrap samples is good enough\n",
    "num_bootsrap_samples = 10 * 1000\n",
    "\n",
    "# notice that we sample age_sample.count() examples from our 'population'\n",
    "bootsrap_samples = np.random.choice(age_sample, size=(age_sample.count(), num_bootsrap_samples))\n",
    "\n",
    "bootsrap_sample_medians = np.median(bootsrap_samples, 0)\n",
    "\n",
    "# now we have 10k sample medians\n",
    "bootsrap_sample_medians.shape"
   ]
  },
  {
   "cell_type": "markdown",
   "metadata": {
    "slideshow": {
     "slide_type": "subslide"
    }
   },
   "source": [
    "The final step is to use this distribution of sample medians to make your prediction, so let's go ahead and visualize ours:"
   ]
  },
  {
   "cell_type": "code",
   "execution_count": 18,
   "metadata": {
    "slideshow": {
     "slide_type": "subslide"
    }
   },
   "outputs": [
    {
     "data": {
      "text/plain": [
       "<matplotlib.axes._subplots.AxesSubplot at 0x10c9431d0>"
      ]
     },
     "execution_count": 18,
     "metadata": {},
     "output_type": "execute_result"
    },
    {
     "data": {
      "image/png": "[encoded data removed]",
      "text/plain": [
       "<matplotlib.figure.Figure at 0x10b3dfa10>"
      ]
     },
     "metadata": {},
     "output_type": "display_data"
    }
   ],
   "source": [
    "%matplotlib inline\n",
    "import seaborn as sns\n",
    "\n",
    "sns.distplot(bootsrap_sample_medians)"
   ]
  },
  {
   "cell_type": "markdown",
   "metadata": {
    "slideshow": {
     "slide_type": "subslide"
    }
   },
   "source": [
    "Based on our boostrap distribution we can now know that we are pretty confident that median age of billionaires right now is between 62 and 64."
   ]
  },
  {
   "cell_type": "markdown",
   "metadata": {
    "slideshow": {
     "slide_type": "slide"
    }
   },
   "source": [
    "## Next time\n",
    "\n",
    "Next time we will take this one step further and do hypothesis tests and confidence intervals using the tools above. We will be able to say how confident we are that the estimate lies between."
   ]
  },
  {
   "cell_type": "markdown",
   "metadata": {
    "collapsed": true,
    "slideshow": {
     "slide_type": "slide"
    }
   },
   "source": [
    "## Learning Objectives\n",
    "\n",
    "Today we apply bootstrapping to a real dataset, being very careful to elaborate on the assumptions we make in order to do so."
   ]
  },
  {
   "cell_type": "markdown",
   "metadata": {
    "slideshow": {
     "slide_type": "slide"
    }
   },
   "source": [
    "## Comprehension Questions\n",
    "\n",
    "1.\tWhat types of data have black swans in them?\n",
    "2.\tWhat types of data are hard to bootstrap?\n",
    "3.\tBefore you bootstrap what do you need to do?\n",
    "4.\tCould we bootstrap age of female billionaires if we did not have information on gender? What about if we did?\n",
    "5.\tAnswer some questions about the dataset:\n",
    "    1.\tGo ahead and find out what the 75 percentile of wealth is among billionaires?\n",
    "    1.\tFind out what the probability a billionaire inherited their wealth is?\n",
    "\n"
   ]
  },
  {
   "cell_type": "code",
   "execution_count": null,
   "metadata": {},
   "outputs": [],
   "source": []
  }
 ],
 "metadata": {
  "celltoolbar": "Slideshow",
  "kernelspec": {
   "display_name": "Python 2",
   "language": "python",
   "name": "python2"
  },
  "language_info": {
   "codemirror_mode": {
    "name": "ipython",
    "version": 2
   },
   "file_extension": ".py",
   "mimetype": "text/x-python",
   "name": "python",
   "nbconvert_exporter": "python",
   "pygments_lexer": "ipython2",
   "version": "2.7.13"
  }
 },
 "nbformat": 4,
 "nbformat_minor": 2
}
