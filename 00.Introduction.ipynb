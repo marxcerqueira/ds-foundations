{
 "cells": [
  {
   "cell_type": "markdown",
   "metadata": {
    "slideshow": {
     "slide_type": "slide"
    }
   },
   "source": [
    "# Welcome to introduction to Machine Learning\n",
    "\n",
    "Machine Learning and its applications have grown exponentially in the past few years and will continue to, but the foundational intuitions and techniques have for the most part stayed the same. This class will explore ML from those two perspectives. \n",
    "\n",
    "* First: exploring the intuitions behind techniques and phenomena (such as cross validation and the bias variance tradeoff) and showing how they all fit together under one framework and set of assumptions. \n",
    "* Second: exploring the principal techniques that any machine learner or data scientist should know (like grid search or regularization).\n",
    "\n",
    "This course builds the essential intuitions and toolkit for anyone starting out in ML or data science, and will act as a foundation for those looking to delve deeper.\n",
    "\n",
    "Participants will gain from this course for many reasons. Those looking to delve deep into ML and data science will build an excellent foundation and be prepared for further topics like deep learning. Current practitioners looking to refresh their intuitions or looking to update their toolkit\n",
    "will get just that without any fluff. In short, this course will build the initial vocabulary that will get you 80% of the way in most conversations about data science and machine learning and is approachable by anyone with a coding background."
   ]
  },
  {
   "cell_type": "markdown",
   "metadata": {
    "slideshow": {
     "slide_type": "slide"
    }
   },
   "source": [
    "## Two parts\n",
    "\n",
    "You will notice that the class and this Gihub repository have two parts: a foundations and a practical section (located under their eponymously named folders in the repo). The two parts are meant to be studied in tandem starting with the foundations course. So a valid way to study the material is by learning foundations one, two and three and then doing practicals one, two and three. Or foundations one then praticals one then foundations two...\n",
    "\n",
    "But you will want to do both to finish the course and you will always want to start with the foundations.\n"
   ]
  },
  {
   "cell_type": "markdown",
   "metadata": {
    "slideshow": {
     "slide_type": "slide"
    }
   },
   "source": [
    "## Three types of ML courses\n",
    "\n",
    "* Super intro (Ng coursera): great for somebody just looking to get the vocabulary\n",
    "* Super mathy (Ng stanford, Yaser Caltech): great for somebody looking to do ML research\n",
    "* Super applied (Howard fast.ai): great for implementors working with an experienced data scientist.\n",
    "\n",
    "None are courses that I would want to take if I were becoming a data scientist. The super mathy courses are overkill and unless you have a very strong math background will not give you the intuitions needed to be a good data scientist. And the super applied are the best to get you off the ground fastest, but can leave you blind sided because you fundamentally don't understand what you are doing. "
   ]
  },
  {
   "cell_type": "markdown",
   "metadata": {
    "slideshow": {
     "slide_type": "subslide"
    }
   },
   "source": [
    "## This course\n",
    "\n",
    "This course is designed to be right in the sweet spot. I have distilled (in quite a clever way!) the important information from the mathy courses without all the math. And filled in those gaps with applied knowledge. So two questions:\n",
    "\n",
    "* Will this course be as mathy as the mathy courses? No\n",
    "* Will this course be as applied as the applied courses? No\n",
    "\n",
    "That being said I would recommend this course as a starting point for each. We will cover the real fundamentals that every data scientist needs to know, and open the door to a lot of other courses and material for those that have a particular slant. "
   ]
  },
  {
   "cell_type": "markdown",
   "metadata": {
    "slideshow": {
     "slide_type": "slide"
    }
   },
   "source": [
    "## Getting the most out of the course\n",
    "\n",
    "I have taught quite a few data scientists in the past and I have seen a range of possibilities coming out of a class like this. I have seen expert folks that did not take the class seriously, did not use the supplemental material, and did not get much from it. And I have seen students come in with no experience in data science nor python come in, do all the extra work suggested and even more, and immediately be accepted into all of the data science masters they applied to after. So my one bit of advice would be to **take the course seriously**. "
   ]
  },
  {
   "cell_type": "markdown",
   "metadata": {
    "slideshow": {
     "slide_type": "slide"
    }
   },
   "source": [
    "## Class rules"
   ]
  },
  {
   "cell_type": "markdown",
   "metadata": {
    "slideshow": {
     "slide_type": "slide"
    }
   },
   "source": [
    "## Prerequisits \n",
    "\n",
    "You should be familiar with writing python and working in a jupyter notebook. If you are not or want more practice for python I'd suggest one site:\n",
    "\n",
    "1. [Hitchhikers Guide to Python](http://docs.python-guide.org/en/latest/intro/learning/1)"
   ]
  },
  {
   "cell_type": "markdown",
   "metadata": {
    "slideshow": {
     "slide_type": "slide"
    }
   },
   "source": [
    "## Setup\n",
    "\n",
    "There are two parts to the setup:\n",
    "\n",
    "1. Bookmark the [course page](https://github.com/knathanieltucker/data-science-foundations)\n",
    "2. Either follow the instructions on the course page or the ones below:\n",
    "\n",
    "Download the repo, and install the virtual env\n",
    "```bash\n",
    "git clone https://github.com/knathanieltucker/data-science-foundations.git\n",
    "cd data-science-foundations\n",
    "virtualenv env\n",
    "source env/bin/activate\n",
    "pip install -r requirements.txt\n",
    "```"
   ]
  },
  {
   "cell_type": "markdown",
   "metadata": {
    "slideshow": {
     "slide_type": "slide"
    }
   },
   "source": [
    "# Any questions?"
   ]
  },
  {
   "cell_type": "markdown",
   "metadata": {},
   "source": []
  }
 ],
 "metadata": {
  "celltoolbar": "Slideshow",
  "kernelspec": {
   "display_name": "Python 2",
   "language": "python",
   "name": "python2"
  },
  "language_info": {
   "codemirror_mode": {
    "name": "ipython",
    "version": 2
   },
   "file_extension": ".py",
   "mimetype": "text/x-python",
   "name": "python",
   "nbconvert_exporter": "python",
   "pygments_lexer": "ipython2",
   "version": "2.7.13"
  }
 },
 "nbformat": 4,
 "nbformat_minor": 2
}
